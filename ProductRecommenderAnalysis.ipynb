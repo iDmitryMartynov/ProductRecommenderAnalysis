{
  "cells": [
    {
      "cell_type": "code",
      "execution_count": null,
      "metadata": {
        "id": "C07ymjln5s8Y"
      },
      "outputs": [],
      "source": [
        "import pandas as pd\n",
        "import numpy as np\n",
        "import pingouin as pg\n",
        "from datetime import datetime\n",
        "import seaborn as sns\n",
        "import matplotlib as plt\n",
        "%matplotlib inline"
      ]
    },
    {
      "cell_type": "code",
      "execution_count": null,
      "metadata": {
        "id": "kCEhw5q55s8Z"
      },
      "outputs": [],
      "source": [
        "url_for_users_data = '/mnt/HC_Volume_18315164/home-jupyter/jupyter-d-martynov/lesson_1_DM/WORK_FILES/Statistics/ab_users_data.csv'"
      ]
    },
    {
      "cell_type": "code",
      "execution_count": null,
      "metadata": {
        "id": "nUcF6sOZ5s8a"
      },
      "outputs": [],
      "source": [
        "url_for_orders = '/mnt/HC_Volume_18315164/home-jupyter/jupyter-d-martynov/lesson_1_DM/WORK_FILES/Statistics/ab_orders.csv'"
      ]
    },
    {
      "cell_type": "code",
      "execution_count": null,
      "metadata": {
        "id": "xUlFJzD95s8a"
      },
      "outputs": [],
      "source": [
        "url_for_products = '/mnt/HC_Volume_18315164/home-jupyter/jupyter-d-martynov/lesson_1_DM/WORK_FILES/Statistics/ab_products.csv'"
      ]
    },
    {
      "cell_type": "code",
      "execution_count": null,
      "metadata": {
        "id": "ZmCEPKk_5s8a"
      },
      "outputs": [],
      "source": [
        "users_data = pd.read_csv(url_for_users_data, parse_dates=['date', 'time'])"
      ]
    },
    {
      "cell_type": "code",
      "execution_count": null,
      "metadata": {
        "id": "S6NI8_n-5s8a"
      },
      "outputs": [],
      "source": [
        "orders = pd.read_csv(url_for_orders, parse_dates=['creation_time'])"
      ]
    },
    {
      "cell_type": "code",
      "execution_count": null,
      "metadata": {
        "id": "cVsForc55s8a"
      },
      "outputs": [],
      "source": [
        "products = pd.read_csv(url_for_products)"
      ]
    },
    {
      "cell_type": "markdown",
      "metadata": {
        "id": "SfEGN8gY5s8b"
      },
      "source": [
        "# EDA"
      ]
    },
    {
      "cell_type": "code",
      "execution_count": null,
      "metadata": {
        "id": "Ste6FltN5s8b",
        "outputId": "e1224647-0155-4aa4-c527-3274514455b0"
      },
      "outputs": [
        {
          "data": {
            "text/html": [
              "<div>\n",
              "<style scoped>\n",
              "    .dataframe tbody tr th:only-of-type {\n",
              "        vertical-align: middle;\n",
              "    }\n",
              "\n",
              "    .dataframe tbody tr th {\n",
              "        vertical-align: top;\n",
              "    }\n",
              "\n",
              "    .dataframe thead th {\n",
              "        text-align: right;\n",
              "    }\n",
              "</style>\n",
              "<table border=\"1\" class=\"dataframe\">\n",
              "  <thead>\n",
              "    <tr style=\"text-align: right;\">\n",
              "      <th></th>\n",
              "      <th>user_id</th>\n",
              "      <th>order_id</th>\n",
              "      <th>action</th>\n",
              "      <th>time</th>\n",
              "      <th>date</th>\n",
              "      <th>group</th>\n",
              "    </tr>\n",
              "  </thead>\n",
              "  <tbody>\n",
              "    <tr>\n",
              "      <th>0</th>\n",
              "      <td>964</td>\n",
              "      <td>1255</td>\n",
              "      <td>create_order</td>\n",
              "      <td>2022-08-26 00:00:19</td>\n",
              "      <td>2022-08-26</td>\n",
              "      <td>0</td>\n",
              "    </tr>\n",
              "    <tr>\n",
              "      <th>1</th>\n",
              "      <td>965</td>\n",
              "      <td>1256</td>\n",
              "      <td>create_order</td>\n",
              "      <td>2022-08-26 00:02:21</td>\n",
              "      <td>2022-08-26</td>\n",
              "      <td>1</td>\n",
              "    </tr>\n",
              "    <tr>\n",
              "      <th>2</th>\n",
              "      <td>964</td>\n",
              "      <td>1257</td>\n",
              "      <td>create_order</td>\n",
              "      <td>2022-08-26 00:02:27</td>\n",
              "      <td>2022-08-26</td>\n",
              "      <td>0</td>\n",
              "    </tr>\n",
              "    <tr>\n",
              "      <th>3</th>\n",
              "      <td>966</td>\n",
              "      <td>1258</td>\n",
              "      <td>create_order</td>\n",
              "      <td>2022-08-26 00:02:56</td>\n",
              "      <td>2022-08-26</td>\n",
              "      <td>0</td>\n",
              "    </tr>\n",
              "    <tr>\n",
              "      <th>4</th>\n",
              "      <td>967</td>\n",
              "      <td>1259</td>\n",
              "      <td>create_order</td>\n",
              "      <td>2022-08-26 00:03:37</td>\n",
              "      <td>2022-08-26</td>\n",
              "      <td>1</td>\n",
              "    </tr>\n",
              "  </tbody>\n",
              "</table>\n",
              "</div>"
            ],
            "text/plain": [
              "   user_id  order_id        action                time       date  group\n",
              "0      964      1255  create_order 2022-08-26 00:00:19 2022-08-26      0\n",
              "1      965      1256  create_order 2022-08-26 00:02:21 2022-08-26      1\n",
              "2      964      1257  create_order 2022-08-26 00:02:27 2022-08-26      0\n",
              "3      966      1258  create_order 2022-08-26 00:02:56 2022-08-26      0\n",
              "4      967      1259  create_order 2022-08-26 00:03:37 2022-08-26      1"
            ]
          },
          "execution_count": 342,
          "metadata": {},
          "output_type": "execute_result"
        }
      ],
      "source": [
        "users_data.head()"
      ]
    },
    {
      "cell_type": "code",
      "execution_count": null,
      "metadata": {
        "id": "LIiLn7xa5s8c",
        "outputId": "3fdd7599-66ab-4fe6-a243-3f1fb41aa625"
      },
      "outputs": [
        {
          "data": {
            "text/plain": [
              "user_id     0\n",
              "order_id    0\n",
              "action      0\n",
              "time        0\n",
              "date        0\n",
              "group       0\n",
              "dtype: int64"
            ]
          },
          "execution_count": 343,
          "metadata": {},
          "output_type": "execute_result"
        }
      ],
      "source": [
        "users_data.isna().sum()"
      ]
    },
    {
      "cell_type": "code",
      "execution_count": null,
      "metadata": {
        "id": "g7G2iGbm5s8d",
        "outputId": "4bdec8b1-dbca-41b7-bbf2-0e2029a26a8e"
      },
      "outputs": [
        {
          "name": "stdout",
          "output_type": "stream",
          "text": [
            "<class 'pandas.core.frame.DataFrame'>\n",
            "RangeIndex: 4337 entries, 0 to 4336\n",
            "Data columns (total 6 columns):\n",
            " #   Column    Non-Null Count  Dtype         \n",
            "---  ------    --------------  -----         \n",
            " 0   user_id   4337 non-null   int64         \n",
            " 1   order_id  4337 non-null   int64         \n",
            " 2   action    4337 non-null   object        \n",
            " 3   time      4337 non-null   datetime64[ns]\n",
            " 4   date      4337 non-null   datetime64[ns]\n",
            " 5   group     4337 non-null   int64         \n",
            "dtypes: datetime64[ns](2), int64(3), object(1)\n",
            "memory usage: 203.4+ KB\n"
          ]
        }
      ],
      "source": [
        "users_data.info()"
      ]
    },
    {
      "cell_type": "code",
      "execution_count": null,
      "metadata": {
        "id": "gZ5rYuuy5s8d",
        "outputId": "708ea758-bf5d-4127-88d0-acdccf3cbb57"
      },
      "outputs": [
        {
          "data": {
            "text/html": [
              "<div>\n",
              "<style scoped>\n",
              "    .dataframe tbody tr th:only-of-type {\n",
              "        vertical-align: middle;\n",
              "    }\n",
              "\n",
              "    .dataframe tbody tr th {\n",
              "        vertical-align: top;\n",
              "    }\n",
              "\n",
              "    .dataframe thead th {\n",
              "        text-align: right;\n",
              "    }\n",
              "</style>\n",
              "<table border=\"1\" class=\"dataframe\">\n",
              "  <thead>\n",
              "    <tr style=\"text-align: right;\">\n",
              "      <th></th>\n",
              "      <th>user_id</th>\n",
              "      <th>order_id</th>\n",
              "      <th>group</th>\n",
              "    </tr>\n",
              "  </thead>\n",
              "  <tbody>\n",
              "    <tr>\n",
              "      <th>count</th>\n",
              "      <td>4337.000000</td>\n",
              "      <td>4337.000000</td>\n",
              "      <td>4337.000000</td>\n",
              "    </tr>\n",
              "    <tr>\n",
              "      <th>mean</th>\n",
              "      <td>1466.771270</td>\n",
              "      <td>16362.859811</td>\n",
              "      <td>0.610099</td>\n",
              "    </tr>\n",
              "    <tr>\n",
              "      <th>std</th>\n",
              "      <td>290.451607</td>\n",
              "      <td>16609.671919</td>\n",
              "      <td>0.487784</td>\n",
              "    </tr>\n",
              "    <tr>\n",
              "      <th>min</th>\n",
              "      <td>964.000000</td>\n",
              "      <td>1255.000000</td>\n",
              "      <td>0.000000</td>\n",
              "    </tr>\n",
              "    <tr>\n",
              "      <th>25%</th>\n",
              "      <td>1220.000000</td>\n",
              "      <td>2444.000000</td>\n",
              "      <td>0.000000</td>\n",
              "    </tr>\n",
              "    <tr>\n",
              "      <th>50%</th>\n",
              "      <td>1463.000000</td>\n",
              "      <td>9615.000000</td>\n",
              "      <td>1.000000</td>\n",
              "    </tr>\n",
              "    <tr>\n",
              "      <th>75%</th>\n",
              "      <td>1710.000000</td>\n",
              "      <td>26920.000000</td>\n",
              "      <td>1.000000</td>\n",
              "    </tr>\n",
              "    <tr>\n",
              "      <th>max</th>\n",
              "      <td>1980.000000</td>\n",
              "      <td>59533.000000</td>\n",
              "      <td>1.000000</td>\n",
              "    </tr>\n",
              "  </tbody>\n",
              "</table>\n",
              "</div>"
            ],
            "text/plain": [
              "           user_id      order_id        group\n",
              "count  4337.000000   4337.000000  4337.000000\n",
              "mean   1466.771270  16362.859811     0.610099\n",
              "std     290.451607  16609.671919     0.487784\n",
              "min     964.000000   1255.000000     0.000000\n",
              "25%    1220.000000   2444.000000     0.000000\n",
              "50%    1463.000000   9615.000000     1.000000\n",
              "75%    1710.000000  26920.000000     1.000000\n",
              "max    1980.000000  59533.000000     1.000000"
            ]
          },
          "execution_count": 345,
          "metadata": {},
          "output_type": "execute_result"
        }
      ],
      "source": [
        "users_data.describe()"
      ]
    },
    {
      "cell_type": "code",
      "execution_count": null,
      "metadata": {
        "id": "ZiqkIN0C5s8d",
        "outputId": "95b1a619-aeae-4fef-b48f-7eb102fcf826"
      },
      "outputs": [
        {
          "data": {
            "text/plain": [
              "array(['create_order', 'cancel_order'], dtype=object)"
            ]
          },
          "execution_count": 346,
          "metadata": {},
          "output_type": "execute_result"
        }
      ],
      "source": [
        "users_data['action'].unique()"
      ]
    },
    {
      "cell_type": "markdown",
      "metadata": {
        "id": "_kF3t68k5s8d"
      },
      "source": [
        "#####  -----------------------------------------------------------------------------------------------------------------------------------------------------------------------------------------------------"
      ]
    },
    {
      "cell_type": "code",
      "execution_count": null,
      "metadata": {
        "id": "Bk0rQOsm5s8e",
        "outputId": "e093e696-2051-4450-d2f0-c5ead4b96129"
      },
      "outputs": [
        {
          "data": {
            "text/plain": [
              "order_id                  int64\n",
              "creation_time    datetime64[ns]\n",
              "product_ids              object\n",
              "dtype: object"
            ]
          },
          "execution_count": 347,
          "metadata": {},
          "output_type": "execute_result"
        }
      ],
      "source": [
        "orders.dtypes"
      ]
    },
    {
      "cell_type": "code",
      "execution_count": null,
      "metadata": {
        "id": "ZUJC3oLj5s8e"
      },
      "outputs": [],
      "source": [
        "orders['product_ids'] = orders['product_ids'].apply(lambda x: list(map(int, x.strip('{}').split(', '))))"
      ]
    },
    {
      "cell_type": "code",
      "execution_count": null,
      "metadata": {
        "id": "wY_F5vQf5s8e",
        "outputId": "55ccb060-2cbd-4fe7-f466-855b7f123921"
      },
      "outputs": [
        {
          "data": {
            "text/html": [
              "<div>\n",
              "<style scoped>\n",
              "    .dataframe tbody tr th:only-of-type {\n",
              "        vertical-align: middle;\n",
              "    }\n",
              "\n",
              "    .dataframe tbody tr th {\n",
              "        vertical-align: top;\n",
              "    }\n",
              "\n",
              "    .dataframe thead th {\n",
              "        text-align: right;\n",
              "    }\n",
              "</style>\n",
              "<table border=\"1\" class=\"dataframe\">\n",
              "  <thead>\n",
              "    <tr style=\"text-align: right;\">\n",
              "      <th></th>\n",
              "      <th>order_id</th>\n",
              "      <th>creation_time</th>\n",
              "      <th>product_ids</th>\n",
              "    </tr>\n",
              "  </thead>\n",
              "  <tbody>\n",
              "    <tr>\n",
              "      <th>0</th>\n",
              "      <td>1255</td>\n",
              "      <td>2022-08-26 00:00:19</td>\n",
              "      <td>75</td>\n",
              "    </tr>\n",
              "    <tr>\n",
              "      <th>0</th>\n",
              "      <td>1255</td>\n",
              "      <td>2022-08-26 00:00:19</td>\n",
              "      <td>22</td>\n",
              "    </tr>\n",
              "    <tr>\n",
              "      <th>0</th>\n",
              "      <td>1255</td>\n",
              "      <td>2022-08-26 00:00:19</td>\n",
              "      <td>53</td>\n",
              "    </tr>\n",
              "    <tr>\n",
              "      <th>0</th>\n",
              "      <td>1255</td>\n",
              "      <td>2022-08-26 00:00:19</td>\n",
              "      <td>84</td>\n",
              "    </tr>\n",
              "    <tr>\n",
              "      <th>1</th>\n",
              "      <td>1256</td>\n",
              "      <td>2022-08-26 00:02:21</td>\n",
              "      <td>56</td>\n",
              "    </tr>\n",
              "  </tbody>\n",
              "</table>\n",
              "</div>"
            ],
            "text/plain": [
              "   order_id       creation_time product_ids\n",
              "0      1255 2022-08-26 00:00:19          75\n",
              "0      1255 2022-08-26 00:00:19          22\n",
              "0      1255 2022-08-26 00:00:19          53\n",
              "0      1255 2022-08-26 00:00:19          84\n",
              "1      1256 2022-08-26 00:02:21          56"
            ]
          },
          "execution_count": 349,
          "metadata": {},
          "output_type": "execute_result"
        }
      ],
      "source": [
        "orders = orders.explode('product_ids')\n",
        "orders.head()"
      ]
    },
    {
      "cell_type": "code",
      "execution_count": null,
      "metadata": {
        "id": "9H7bkWhw5s8e",
        "outputId": "4f6a7c81-f4d7-4649-f314-c004126ae289"
      },
      "outputs": [
        {
          "data": {
            "text/plain": [
              "array([75, 22, 53, 84, 56, 76, 39, 34, 41, 38, 74, 6, 20, 45, 67, 26, 30,\n",
              "       35, 69, 23, 33, 5, 60, 19, 42, 25, 54, 78, 80, 65, 47, 16, 3, 40,\n",
              "       70, 57, 61, 46, 21, 86, 64, 52, 17, 71, 77, 27, 7, 8, 24, 36, 58,\n",
              "       15, 63, 83, 79, 31, 18, 48, 68, 1, 2, 32, 66, 81, 10, 28, 12, 62,\n",
              "       9, 51, 72, 87, 37, 14, 55, 85, 50, 29, 59, 44, 43, 82, 49, 73, 4,\n",
              "       13, 11], dtype=object)"
            ]
          },
          "execution_count": 350,
          "metadata": {},
          "output_type": "execute_result"
        }
      ],
      "source": [
        "orders['product_ids'].unique()"
      ]
    },
    {
      "cell_type": "markdown",
      "metadata": {
        "id": "C-P2yV0k5s8e"
      },
      "source": [
        "##### ---------------------------------------------------------------------------------------------------------------------------------------------------------------------------------------------------------"
      ]
    },
    {
      "cell_type": "code",
      "execution_count": null,
      "metadata": {
        "id": "uOYV3--p5s8e",
        "outputId": "83bbcc35-fdd8-4663-f9b5-d17cd3309909"
      },
      "outputs": [
        {
          "data": {
            "text/html": [
              "<div>\n",
              "<style scoped>\n",
              "    .dataframe tbody tr th:only-of-type {\n",
              "        vertical-align: middle;\n",
              "    }\n",
              "\n",
              "    .dataframe tbody tr th {\n",
              "        vertical-align: top;\n",
              "    }\n",
              "\n",
              "    .dataframe thead th {\n",
              "        text-align: right;\n",
              "    }\n",
              "</style>\n",
              "<table border=\"1\" class=\"dataframe\">\n",
              "  <thead>\n",
              "    <tr style=\"text-align: right;\">\n",
              "      <th></th>\n",
              "      <th>product_id</th>\n",
              "      <th>name</th>\n",
              "      <th>price</th>\n",
              "    </tr>\n",
              "  </thead>\n",
              "  <tbody>\n",
              "    <tr>\n",
              "      <th>0</th>\n",
              "      <td>1</td>\n",
              "      <td>сахар</td>\n",
              "      <td>150.0</td>\n",
              "    </tr>\n",
              "    <tr>\n",
              "      <th>1</th>\n",
              "      <td>2</td>\n",
              "      <td>чай зеленый в пакетиках</td>\n",
              "      <td>50.0</td>\n",
              "    </tr>\n",
              "    <tr>\n",
              "      <th>2</th>\n",
              "      <td>3</td>\n",
              "      <td>вода негазированная</td>\n",
              "      <td>80.4</td>\n",
              "    </tr>\n",
              "    <tr>\n",
              "      <th>3</th>\n",
              "      <td>4</td>\n",
              "      <td>леденцы</td>\n",
              "      <td>45.5</td>\n",
              "    </tr>\n",
              "    <tr>\n",
              "      <th>4</th>\n",
              "      <td>5</td>\n",
              "      <td>кофе 3 в 1</td>\n",
              "      <td>15.0</td>\n",
              "    </tr>\n",
              "  </tbody>\n",
              "</table>\n",
              "</div>"
            ],
            "text/plain": [
              "   product_id                     name  price\n",
              "0           1                    сахар  150.0\n",
              "1           2  чай зеленый в пакетиках   50.0\n",
              "2           3      вода негазированная   80.4\n",
              "3           4                  леденцы   45.5\n",
              "4           5               кофе 3 в 1   15.0"
            ]
          },
          "execution_count": 351,
          "metadata": {},
          "output_type": "execute_result"
        }
      ],
      "source": [
        "products.head()"
      ]
    },
    {
      "cell_type": "code",
      "execution_count": null,
      "metadata": {
        "id": "3eeTEUV55s8e",
        "outputId": "23525f0f-5d8d-46b3-8bff-daec00cd9073"
      },
      "outputs": [
        {
          "data": {
            "text/plain": [
              "array([ 1,  2,  3,  4,  5,  6,  7,  8,  9, 10, 11, 12, 13, 14, 15, 16, 17,\n",
              "       18, 19, 20, 21, 22, 23, 24, 25, 26, 27, 28, 29, 30, 31, 32, 33, 34,\n",
              "       35, 36, 37, 38, 39, 40, 41, 42, 43, 44, 45, 46, 47, 48, 49, 50, 51,\n",
              "       52, 53, 54, 55, 56, 57, 58, 59, 60, 61, 62, 63, 64, 65, 66, 67, 68,\n",
              "       69, 70, 71, 72, 73, 74, 75, 76, 77, 78, 79, 80, 81, 82, 83, 84, 85,\n",
              "       86, 87])"
            ]
          },
          "execution_count": 352,
          "metadata": {},
          "output_type": "execute_result"
        }
      ],
      "source": [
        "products['product_id'].unique()"
      ]
    },
    {
      "cell_type": "markdown",
      "metadata": {
        "id": "ThOTK2o65s8f"
      },
      "source": [
        "##### ----------------------------------------------------------------------------------------------------------------------------------------------------------------------------------------------------"
      ]
    },
    {
      "cell_type": "markdown",
      "metadata": {
        "id": "ub0IALiy5s8f"
      },
      "source": [
        "## Соединяем датафреймы"
      ]
    },
    {
      "cell_type": "code",
      "execution_count": null,
      "metadata": {
        "id": "sEIDOgy-5s8f"
      },
      "outputs": [],
      "source": [
        "transition = pd.merge(users_data, orders, on='order_id')\n",
        "transition.rename(columns={'product_ids':'product_id'}, inplace=True)"
      ]
    },
    {
      "cell_type": "code",
      "execution_count": null,
      "metadata": {
        "id": "-cABJmov5s8f"
      },
      "outputs": [],
      "source": [
        "df = pd.merge(transition, products, on='product_id')"
      ]
    },
    {
      "cell_type": "code",
      "execution_count": null,
      "metadata": {
        "id": "Z7f7HFJs5s8f",
        "outputId": "13cbecc1-bdf8-4e3d-ab09-c77ce9a7d0ce"
      },
      "outputs": [
        {
          "data": {
            "text/plain": [
              "user_id          0\n",
              "order_id         0\n",
              "action           0\n",
              "time             0\n",
              "date             0\n",
              "group            0\n",
              "creation_time    0\n",
              "product_id       0\n",
              "name             0\n",
              "price            0\n",
              "dtype: int64"
            ]
          },
          "execution_count": 355,
          "metadata": {},
          "output_type": "execute_result"
        }
      ],
      "source": [
        "df.isna().sum()"
      ]
    },
    {
      "cell_type": "code",
      "execution_count": null,
      "metadata": {
        "id": "A0rw7Pnf5s8f",
        "outputId": "69fb07e7-55e9-4bce-aa2e-f4dbc71288e7"
      },
      "outputs": [
        {
          "data": {
            "text/plain": [
              "user_id                   int64\n",
              "order_id                  int64\n",
              "action                   object\n",
              "time             datetime64[ns]\n",
              "date             datetime64[ns]\n",
              "group                     int64\n",
              "creation_time    datetime64[ns]\n",
              "product_id               object\n",
              "name                     object\n",
              "price                   float64\n",
              "dtype: object"
            ]
          },
          "execution_count": 356,
          "metadata": {},
          "output_type": "execute_result"
        }
      ],
      "source": [
        "df.dtypes"
      ]
    },
    {
      "cell_type": "markdown",
      "metadata": {
        "id": "y8nd3oF35s8f"
      },
      "source": [
        "##### Смотрим на данные для тестовой и контрольной групп"
      ]
    },
    {
      "cell_type": "code",
      "execution_count": null,
      "metadata": {
        "id": "YzHWhvw95s8g",
        "outputId": "7be527a8-cb7f-4ac4-bd66-9d261eec69c4"
      },
      "outputs": [
        {
          "data": {
            "text/html": [
              "<div>\n",
              "<style scoped>\n",
              "    .dataframe tbody tr th:only-of-type {\n",
              "        vertical-align: middle;\n",
              "    }\n",
              "\n",
              "    .dataframe tbody tr th {\n",
              "        vertical-align: top;\n",
              "    }\n",
              "\n",
              "    .dataframe thead th {\n",
              "        text-align: right;\n",
              "    }\n",
              "</style>\n",
              "<table border=\"1\" class=\"dataframe\">\n",
              "  <thead>\n",
              "    <tr style=\"text-align: right;\">\n",
              "      <th></th>\n",
              "      <th>user_id</th>\n",
              "      <th>order_id</th>\n",
              "      <th>action</th>\n",
              "      <th>time</th>\n",
              "      <th>date</th>\n",
              "      <th>group</th>\n",
              "      <th>creation_time</th>\n",
              "      <th>product_id</th>\n",
              "      <th>name</th>\n",
              "      <th>price</th>\n",
              "    </tr>\n",
              "  </thead>\n",
              "  <tbody>\n",
              "    <tr>\n",
              "      <th>2</th>\n",
              "      <td>1073</td>\n",
              "      <td>1403</td>\n",
              "      <td>create_order</td>\n",
              "      <td>2022-08-26 03:01:40</td>\n",
              "      <td>2022-08-26</td>\n",
              "      <td>1</td>\n",
              "      <td>2022-08-26 03:01:40</td>\n",
              "      <td>75</td>\n",
              "      <td>сок ананасовый</td>\n",
              "      <td>120.0</td>\n",
              "    </tr>\n",
              "    <tr>\n",
              "      <th>3</th>\n",
              "      <td>1089</td>\n",
              "      <td>1424</td>\n",
              "      <td>create_order</td>\n",
              "      <td>2022-08-26 04:01:22</td>\n",
              "      <td>2022-08-26</td>\n",
              "      <td>1</td>\n",
              "      <td>2022-08-26 04:01:22</td>\n",
              "      <td>75</td>\n",
              "      <td>сок ананасовый</td>\n",
              "      <td>120.0</td>\n",
              "    </tr>\n",
              "    <tr>\n",
              "      <th>4</th>\n",
              "      <td>1139</td>\n",
              "      <td>1495</td>\n",
              "      <td>create_order</td>\n",
              "      <td>2022-08-26 06:04:05</td>\n",
              "      <td>2022-08-26</td>\n",
              "      <td>1</td>\n",
              "      <td>2022-08-26 06:04:05</td>\n",
              "      <td>75</td>\n",
              "      <td>сок ананасовый</td>\n",
              "      <td>120.0</td>\n",
              "    </tr>\n",
              "    <tr>\n",
              "      <th>5</th>\n",
              "      <td>1290</td>\n",
              "      <td>1710</td>\n",
              "      <td>create_order</td>\n",
              "      <td>2022-08-26 10:04:41</td>\n",
              "      <td>2022-08-26</td>\n",
              "      <td>1</td>\n",
              "      <td>2022-08-26 10:04:41</td>\n",
              "      <td>75</td>\n",
              "      <td>сок ананасовый</td>\n",
              "      <td>120.0</td>\n",
              "    </tr>\n",
              "    <tr>\n",
              "      <th>8</th>\n",
              "      <td>1547</td>\n",
              "      <td>2064</td>\n",
              "      <td>create_order</td>\n",
              "      <td>2022-08-26 15:29:53</td>\n",
              "      <td>2022-08-26</td>\n",
              "      <td>1</td>\n",
              "      <td>2022-08-26 15:29:53</td>\n",
              "      <td>75</td>\n",
              "      <td>сок ананасовый</td>\n",
              "      <td>120.0</td>\n",
              "    </tr>\n",
              "  </tbody>\n",
              "</table>\n",
              "</div>"
            ],
            "text/plain": [
              "   user_id  order_id        action                time       date  group  \\\n",
              "2     1073      1403  create_order 2022-08-26 03:01:40 2022-08-26      1   \n",
              "3     1089      1424  create_order 2022-08-26 04:01:22 2022-08-26      1   \n",
              "4     1139      1495  create_order 2022-08-26 06:04:05 2022-08-26      1   \n",
              "5     1290      1710  create_order 2022-08-26 10:04:41 2022-08-26      1   \n",
              "8     1547      2064  create_order 2022-08-26 15:29:53 2022-08-26      1   \n",
              "\n",
              "        creation_time product_id            name  price  \n",
              "2 2022-08-26 03:01:40         75  сок ананасовый  120.0  \n",
              "3 2022-08-26 04:01:22         75  сок ананасовый  120.0  \n",
              "4 2022-08-26 06:04:05         75  сок ананасовый  120.0  \n",
              "5 2022-08-26 10:04:41         75  сок ананасовый  120.0  \n",
              "8 2022-08-26 15:29:53         75  сок ананасовый  120.0  "
            ]
          },
          "execution_count": 357,
          "metadata": {},
          "output_type": "execute_result"
        }
      ],
      "source": [
        "test = df[df['group'] == 1]\n",
        "test.head()"
      ]
    },
    {
      "cell_type": "code",
      "execution_count": null,
      "metadata": {
        "id": "nukU_xlo5s8g",
        "outputId": "de303db8-de1c-4c5b-87bc-4abfd0f08925"
      },
      "outputs": [
        {
          "data": {
            "text/html": [
              "<div>\n",
              "<style scoped>\n",
              "    .dataframe tbody tr th:only-of-type {\n",
              "        vertical-align: middle;\n",
              "    }\n",
              "\n",
              "    .dataframe tbody tr th {\n",
              "        vertical-align: top;\n",
              "    }\n",
              "\n",
              "    .dataframe thead th {\n",
              "        text-align: right;\n",
              "    }\n",
              "</style>\n",
              "<table border=\"1\" class=\"dataframe\">\n",
              "  <thead>\n",
              "    <tr style=\"text-align: right;\">\n",
              "      <th></th>\n",
              "      <th>user_id</th>\n",
              "      <th>order_id</th>\n",
              "      <th>action</th>\n",
              "      <th>time</th>\n",
              "      <th>date</th>\n",
              "      <th>group</th>\n",
              "      <th>creation_time</th>\n",
              "      <th>product_id</th>\n",
              "      <th>name</th>\n",
              "      <th>price</th>\n",
              "    </tr>\n",
              "  </thead>\n",
              "  <tbody>\n",
              "    <tr>\n",
              "      <th>0</th>\n",
              "      <td>964</td>\n",
              "      <td>1255</td>\n",
              "      <td>create_order</td>\n",
              "      <td>2022-08-26 00:00:19</td>\n",
              "      <td>2022-08-26</td>\n",
              "      <td>0</td>\n",
              "      <td>2022-08-26 00:00:19</td>\n",
              "      <td>75</td>\n",
              "      <td>сок ананасовый</td>\n",
              "      <td>120.0</td>\n",
              "    </tr>\n",
              "    <tr>\n",
              "      <th>1</th>\n",
              "      <td>987</td>\n",
              "      <td>1287</td>\n",
              "      <td>create_order</td>\n",
              "      <td>2022-08-26 00:31:36</td>\n",
              "      <td>2022-08-26</td>\n",
              "      <td>0</td>\n",
              "      <td>2022-08-26 00:31:36</td>\n",
              "      <td>75</td>\n",
              "      <td>сок ананасовый</td>\n",
              "      <td>120.0</td>\n",
              "    </tr>\n",
              "    <tr>\n",
              "      <th>6</th>\n",
              "      <td>1350</td>\n",
              "      <td>1791</td>\n",
              "      <td>create_order</td>\n",
              "      <td>2022-08-26 11:18:28</td>\n",
              "      <td>2022-08-26</td>\n",
              "      <td>0</td>\n",
              "      <td>2022-08-26 11:18:28</td>\n",
              "      <td>75</td>\n",
              "      <td>сок ананасовый</td>\n",
              "      <td>120.0</td>\n",
              "    </tr>\n",
              "    <tr>\n",
              "      <th>7</th>\n",
              "      <td>1475</td>\n",
              "      <td>1957</td>\n",
              "      <td>create_order</td>\n",
              "      <td>2022-08-26 13:47:21</td>\n",
              "      <td>2022-08-26</td>\n",
              "      <td>0</td>\n",
              "      <td>2022-08-26 13:47:21</td>\n",
              "      <td>75</td>\n",
              "      <td>сок ананасовый</td>\n",
              "      <td>120.0</td>\n",
              "    </tr>\n",
              "    <tr>\n",
              "      <th>12</th>\n",
              "      <td>1634</td>\n",
              "      <td>2199</td>\n",
              "      <td>create_order</td>\n",
              "      <td>2022-08-26 17:28:53</td>\n",
              "      <td>2022-08-26</td>\n",
              "      <td>0</td>\n",
              "      <td>2022-08-26 17:28:53</td>\n",
              "      <td>75</td>\n",
              "      <td>сок ананасовый</td>\n",
              "      <td>120.0</td>\n",
              "    </tr>\n",
              "  </tbody>\n",
              "</table>\n",
              "</div>"
            ],
            "text/plain": [
              "    user_id  order_id        action                time       date  group  \\\n",
              "0       964      1255  create_order 2022-08-26 00:00:19 2022-08-26      0   \n",
              "1       987      1287  create_order 2022-08-26 00:31:36 2022-08-26      0   \n",
              "6      1350      1791  create_order 2022-08-26 11:18:28 2022-08-26      0   \n",
              "7      1475      1957  create_order 2022-08-26 13:47:21 2022-08-26      0   \n",
              "12     1634      2199  create_order 2022-08-26 17:28:53 2022-08-26      0   \n",
              "\n",
              "         creation_time product_id            name  price  \n",
              "0  2022-08-26 00:00:19         75  сок ананасовый  120.0  \n",
              "1  2022-08-26 00:31:36         75  сок ананасовый  120.0  \n",
              "6  2022-08-26 11:18:28         75  сок ананасовый  120.0  \n",
              "7  2022-08-26 13:47:21         75  сок ананасовый  120.0  \n",
              "12 2022-08-26 17:28:53         75  сок ананасовый  120.0  "
            ]
          },
          "execution_count": 358,
          "metadata": {},
          "output_type": "execute_result"
        }
      ],
      "source": [
        "control = df[df['group'] == 0]\n",
        "control.head()"
      ]
    },
    {
      "cell_type": "markdown",
      "metadata": {
        "id": "OFxCndSW5s8g"
      },
      "source": [
        "# ---------------------------------------------------------------------------------------------------------------"
      ]
    },
    {
      "cell_type": "markdown",
      "metadata": {
        "id": "-kzWQoAV5s8g"
      },
      "source": [
        "### Посмотрим количество покупок созданных заказов по дате"
      ]
    },
    {
      "cell_type": "code",
      "execution_count": null,
      "metadata": {
        "id": "JA45CN665s8g",
        "outputId": "1e38023b-1f6a-49c4-de48-1540e6f8fa06"
      },
      "outputs": [
        {
          "data": {
            "text/plain": [
              "(8892, 10)"
            ]
          },
          "execution_count": 359,
          "metadata": {},
          "output_type": "execute_result"
        }
      ],
      "source": [
        "test.shape"
      ]
    },
    {
      "cell_type": "code",
      "execution_count": null,
      "metadata": {
        "id": "83xPOe995s8g",
        "outputId": "214c73e6-f14f-4f34-8ae9-a691271d62e5"
      },
      "outputs": [
        {
          "data": {
            "text/html": [
              "<div>\n",
              "<style scoped>\n",
              "    .dataframe tbody tr th:only-of-type {\n",
              "        vertical-align: middle;\n",
              "    }\n",
              "\n",
              "    .dataframe tbody tr th {\n",
              "        vertical-align: top;\n",
              "    }\n",
              "\n",
              "    .dataframe thead th {\n",
              "        text-align: right;\n",
              "    }\n",
              "</style>\n",
              "<table border=\"1\" class=\"dataframe\">\n",
              "  <thead>\n",
              "    <tr style=\"text-align: right;\">\n",
              "      <th></th>\n",
              "      <th>creation_time</th>\n",
              "    </tr>\n",
              "    <tr>\n",
              "      <th>action</th>\n",
              "      <th></th>\n",
              "    </tr>\n",
              "  </thead>\n",
              "  <tbody>\n",
              "    <tr>\n",
              "      <th>cancel_order</th>\n",
              "      <td>456</td>\n",
              "    </tr>\n",
              "    <tr>\n",
              "      <th>create_order</th>\n",
              "      <td>8436</td>\n",
              "    </tr>\n",
              "  </tbody>\n",
              "</table>\n",
              "</div>"
            ],
            "text/plain": [
              "              creation_time\n",
              "action                     \n",
              "cancel_order            456\n",
              "create_order           8436"
            ]
          },
          "execution_count": 360,
          "metadata": {},
          "output_type": "execute_result"
        }
      ],
      "source": [
        "test.groupby('action')[['creation_time']].count()"
      ]
    },
    {
      "cell_type": "code",
      "execution_count": null,
      "metadata": {
        "id": "sTY6ru5t5s8g",
        "outputId": "03562729-012e-464a-95f3-641d84d78cf6"
      },
      "outputs": [
        {
          "data": {
            "image/png": "[encoded data removed]",
            "text/plain": [
              "<Figure size 720x360 with 1 Axes>"
            ]
          },
          "metadata": {
            "needs_background": "light"
          },
          "output_type": "display_data"
        }
      ],
      "source": [
        "picture_test = test[test['action'] == 'create_order']['creation_time'].hist(figsize=(10,5))"
      ]
    },
    {
      "cell_type": "code",
      "execution_count": null,
      "metadata": {
        "id": "nQjuuDFc5s8h",
        "outputId": "334aaee5-96e4-411f-fd30-98225bf7dd47"
      },
      "outputs": [
        {
          "data": {
            "text/plain": [
              "(5677, 10)"
            ]
          },
          "execution_count": 362,
          "metadata": {},
          "output_type": "execute_result"
        }
      ],
      "source": [
        "control.shape"
      ]
    },
    {
      "cell_type": "code",
      "execution_count": null,
      "metadata": {
        "id": "6YBqRR8R5s8h",
        "outputId": "e31b112f-d7cc-49f2-8ca8-edd6fbce8e22"
      },
      "outputs": [
        {
          "data": {
            "text/html": [
              "<div>\n",
              "<style scoped>\n",
              "    .dataframe tbody tr th:only-of-type {\n",
              "        vertical-align: middle;\n",
              "    }\n",
              "\n",
              "    .dataframe tbody tr th {\n",
              "        vertical-align: top;\n",
              "    }\n",
              "\n",
              "    .dataframe thead th {\n",
              "        text-align: right;\n",
              "    }\n",
              "</style>\n",
              "<table border=\"1\" class=\"dataframe\">\n",
              "  <thead>\n",
              "    <tr style=\"text-align: right;\">\n",
              "      <th></th>\n",
              "      <th>name</th>\n",
              "    </tr>\n",
              "    <tr>\n",
              "      <th>action</th>\n",
              "      <th></th>\n",
              "    </tr>\n",
              "  </thead>\n",
              "  <tbody>\n",
              "    <tr>\n",
              "      <th>cancel_order</th>\n",
              "      <td>287</td>\n",
              "    </tr>\n",
              "    <tr>\n",
              "      <th>create_order</th>\n",
              "      <td>5390</td>\n",
              "    </tr>\n",
              "  </tbody>\n",
              "</table>\n",
              "</div>"
            ],
            "text/plain": [
              "              name\n",
              "action            \n",
              "cancel_order   287\n",
              "create_order  5390"
            ]
          },
          "execution_count": 363,
          "metadata": {},
          "output_type": "execute_result"
        }
      ],
      "source": [
        "control.groupby('action')[['name']].count()"
      ]
    },
    {
      "cell_type": "code",
      "execution_count": null,
      "metadata": {
        "id": "9xrtl-Xe5s8h",
        "outputId": "703c8196-fff8-4534-afd8-9df2a3c35d9c"
      },
      "outputs": [
        {
          "data": {
            "image/png": "[encoded data removed]",
            "text/plain": [
              "<Figure size 720x360 with 1 Axes>"
            ]
          },
          "metadata": {
            "needs_background": "light"
          },
          "output_type": "display_data"
        }
      ],
      "source": [
        "picture_control = control[control['action'] == 'create_order']['creation_time'].hist(figsize=(10,5))"
      ]
    },
    {
      "cell_type": "markdown",
      "metadata": {
        "id": "esLkEHlR5s8h"
      },
      "source": [
        "# ---------------------------------------------------------------------------------------------------------------"
      ]
    },
    {
      "cell_type": "code",
      "execution_count": null,
      "metadata": {
        "id": "WcOd4Y3x5s8l",
        "outputId": "f626b66b-5734-412e-c4c6-5ef1c8aa1e9c"
      },
      "outputs": [
        {
          "data": {
            "text/html": [
              "<div>\n",
              "<style scoped>\n",
              "    .dataframe tbody tr th:only-of-type {\n",
              "        vertical-align: middle;\n",
              "    }\n",
              "\n",
              "    .dataframe tbody tr th {\n",
              "        vertical-align: top;\n",
              "    }\n",
              "\n",
              "    .dataframe thead th {\n",
              "        text-align: right;\n",
              "    }\n",
              "</style>\n",
              "<table border=\"1\" class=\"dataframe\">\n",
              "  <thead>\n",
              "    <tr style=\"text-align: right;\">\n",
              "      <th></th>\n",
              "      <th>user_id</th>\n",
              "      <th>order_id</th>\n",
              "      <th>action</th>\n",
              "      <th>time</th>\n",
              "      <th>date</th>\n",
              "      <th>group</th>\n",
              "      <th>creation_time</th>\n",
              "      <th>product_id</th>\n",
              "      <th>name</th>\n",
              "      <th>price</th>\n",
              "    </tr>\n",
              "  </thead>\n",
              "  <tbody>\n",
              "    <tr>\n",
              "      <th>2</th>\n",
              "      <td>1073</td>\n",
              "      <td>1403</td>\n",
              "      <td>create_order</td>\n",
              "      <td>2022-08-26 03:01:40</td>\n",
              "      <td>2022-08-26</td>\n",
              "      <td>1</td>\n",
              "      <td>2022-08-26 03:01:40</td>\n",
              "      <td>75</td>\n",
              "      <td>сок ананасовый</td>\n",
              "      <td>120.0</td>\n",
              "    </tr>\n",
              "    <tr>\n",
              "      <th>3</th>\n",
              "      <td>1089</td>\n",
              "      <td>1424</td>\n",
              "      <td>create_order</td>\n",
              "      <td>2022-08-26 04:01:22</td>\n",
              "      <td>2022-08-26</td>\n",
              "      <td>1</td>\n",
              "      <td>2022-08-26 04:01:22</td>\n",
              "      <td>75</td>\n",
              "      <td>сок ананасовый</td>\n",
              "      <td>120.0</td>\n",
              "    </tr>\n",
              "    <tr>\n",
              "      <th>4</th>\n",
              "      <td>1139</td>\n",
              "      <td>1495</td>\n",
              "      <td>create_order</td>\n",
              "      <td>2022-08-26 06:04:05</td>\n",
              "      <td>2022-08-26</td>\n",
              "      <td>1</td>\n",
              "      <td>2022-08-26 06:04:05</td>\n",
              "      <td>75</td>\n",
              "      <td>сок ананасовый</td>\n",
              "      <td>120.0</td>\n",
              "    </tr>\n",
              "    <tr>\n",
              "      <th>5</th>\n",
              "      <td>1290</td>\n",
              "      <td>1710</td>\n",
              "      <td>create_order</td>\n",
              "      <td>2022-08-26 10:04:41</td>\n",
              "      <td>2022-08-26</td>\n",
              "      <td>1</td>\n",
              "      <td>2022-08-26 10:04:41</td>\n",
              "      <td>75</td>\n",
              "      <td>сок ананасовый</td>\n",
              "      <td>120.0</td>\n",
              "    </tr>\n",
              "    <tr>\n",
              "      <th>8</th>\n",
              "      <td>1547</td>\n",
              "      <td>2064</td>\n",
              "      <td>create_order</td>\n",
              "      <td>2022-08-26 15:29:53</td>\n",
              "      <td>2022-08-26</td>\n",
              "      <td>1</td>\n",
              "      <td>2022-08-26 15:29:53</td>\n",
              "      <td>75</td>\n",
              "      <td>сок ананасовый</td>\n",
              "      <td>120.0</td>\n",
              "    </tr>\n",
              "  </tbody>\n",
              "</table>\n",
              "</div>"
            ],
            "text/plain": [
              "   user_id  order_id        action                time       date  group  \\\n",
              "2     1073      1403  create_order 2022-08-26 03:01:40 2022-08-26      1   \n",
              "3     1089      1424  create_order 2022-08-26 04:01:22 2022-08-26      1   \n",
              "4     1139      1495  create_order 2022-08-26 06:04:05 2022-08-26      1   \n",
              "5     1290      1710  create_order 2022-08-26 10:04:41 2022-08-26      1   \n",
              "8     1547      2064  create_order 2022-08-26 15:29:53 2022-08-26      1   \n",
              "\n",
              "        creation_time product_id            name  price  \n",
              "2 2022-08-26 03:01:40         75  сок ананасовый  120.0  \n",
              "3 2022-08-26 04:01:22         75  сок ананасовый  120.0  \n",
              "4 2022-08-26 06:04:05         75  сок ананасовый  120.0  \n",
              "5 2022-08-26 10:04:41         75  сок ананасовый  120.0  \n",
              "8 2022-08-26 15:29:53         75  сок ананасовый  120.0  "
            ]
          },
          "execution_count": 365,
          "metadata": {},
          "output_type": "execute_result"
        }
      ],
      "source": [
        "test.head()"
      ]
    },
    {
      "cell_type": "code",
      "execution_count": null,
      "metadata": {
        "id": "KspXx0nt5s8l",
        "outputId": "375c97e4-2303-4823-da1b-c2eaa1451f33"
      },
      "outputs": [
        {
          "data": {
            "text/html": [
              "<div>\n",
              "<style scoped>\n",
              "    .dataframe tbody tr th:only-of-type {\n",
              "        vertical-align: middle;\n",
              "    }\n",
              "\n",
              "    .dataframe tbody tr th {\n",
              "        vertical-align: top;\n",
              "    }\n",
              "\n",
              "    .dataframe thead th {\n",
              "        text-align: right;\n",
              "    }\n",
              "</style>\n",
              "<table border=\"1\" class=\"dataframe\">\n",
              "  <thead>\n",
              "    <tr style=\"text-align: right;\">\n",
              "      <th></th>\n",
              "      <th>user_id</th>\n",
              "      <th>order_id</th>\n",
              "      <th>action</th>\n",
              "      <th>time</th>\n",
              "      <th>date</th>\n",
              "      <th>group</th>\n",
              "      <th>creation_time</th>\n",
              "      <th>product_id</th>\n",
              "      <th>name</th>\n",
              "      <th>price</th>\n",
              "    </tr>\n",
              "  </thead>\n",
              "  <tbody>\n",
              "    <tr>\n",
              "      <th>0</th>\n",
              "      <td>964</td>\n",
              "      <td>1255</td>\n",
              "      <td>create_order</td>\n",
              "      <td>2022-08-26 00:00:19</td>\n",
              "      <td>2022-08-26</td>\n",
              "      <td>0</td>\n",
              "      <td>2022-08-26 00:00:19</td>\n",
              "      <td>75</td>\n",
              "      <td>сок ананасовый</td>\n",
              "      <td>120.0</td>\n",
              "    </tr>\n",
              "    <tr>\n",
              "      <th>1</th>\n",
              "      <td>987</td>\n",
              "      <td>1287</td>\n",
              "      <td>create_order</td>\n",
              "      <td>2022-08-26 00:31:36</td>\n",
              "      <td>2022-08-26</td>\n",
              "      <td>0</td>\n",
              "      <td>2022-08-26 00:31:36</td>\n",
              "      <td>75</td>\n",
              "      <td>сок ананасовый</td>\n",
              "      <td>120.0</td>\n",
              "    </tr>\n",
              "    <tr>\n",
              "      <th>6</th>\n",
              "      <td>1350</td>\n",
              "      <td>1791</td>\n",
              "      <td>create_order</td>\n",
              "      <td>2022-08-26 11:18:28</td>\n",
              "      <td>2022-08-26</td>\n",
              "      <td>0</td>\n",
              "      <td>2022-08-26 11:18:28</td>\n",
              "      <td>75</td>\n",
              "      <td>сок ананасовый</td>\n",
              "      <td>120.0</td>\n",
              "    </tr>\n",
              "    <tr>\n",
              "      <th>7</th>\n",
              "      <td>1475</td>\n",
              "      <td>1957</td>\n",
              "      <td>create_order</td>\n",
              "      <td>2022-08-26 13:47:21</td>\n",
              "      <td>2022-08-26</td>\n",
              "      <td>0</td>\n",
              "      <td>2022-08-26 13:47:21</td>\n",
              "      <td>75</td>\n",
              "      <td>сок ананасовый</td>\n",
              "      <td>120.0</td>\n",
              "    </tr>\n",
              "    <tr>\n",
              "      <th>12</th>\n",
              "      <td>1634</td>\n",
              "      <td>2199</td>\n",
              "      <td>create_order</td>\n",
              "      <td>2022-08-26 17:28:53</td>\n",
              "      <td>2022-08-26</td>\n",
              "      <td>0</td>\n",
              "      <td>2022-08-26 17:28:53</td>\n",
              "      <td>75</td>\n",
              "      <td>сок ананасовый</td>\n",
              "      <td>120.0</td>\n",
              "    </tr>\n",
              "  </tbody>\n",
              "</table>\n",
              "</div>"
            ],
            "text/plain": [
              "    user_id  order_id        action                time       date  group  \\\n",
              "0       964      1255  create_order 2022-08-26 00:00:19 2022-08-26      0   \n",
              "1       987      1287  create_order 2022-08-26 00:31:36 2022-08-26      0   \n",
              "6      1350      1791  create_order 2022-08-26 11:18:28 2022-08-26      0   \n",
              "7      1475      1957  create_order 2022-08-26 13:47:21 2022-08-26      0   \n",
              "12     1634      2199  create_order 2022-08-26 17:28:53 2022-08-26      0   \n",
              "\n",
              "         creation_time product_id            name  price  \n",
              "0  2022-08-26 00:00:19         75  сок ананасовый  120.0  \n",
              "1  2022-08-26 00:31:36         75  сок ананасовый  120.0  \n",
              "6  2022-08-26 11:18:28         75  сок ананасовый  120.0  \n",
              "7  2022-08-26 13:47:21         75  сок ананасовый  120.0  \n",
              "12 2022-08-26 17:28:53         75  сок ананасовый  120.0  "
            ]
          },
          "execution_count": 366,
          "metadata": {},
          "output_type": "execute_result"
        }
      ],
      "source": [
        "control.head()"
      ]
    },
    {
      "cell_type": "markdown",
      "metadata": {
        "id": "aYmdi9ap5s8l"
      },
      "source": [
        "### Строю график цены созданного заказа в тестовой и контрольной группах.\n",
        "#### Смотрю какое количество товара и за какую цену купили"
      ]
    },
    {
      "cell_type": "code",
      "execution_count": null,
      "metadata": {
        "id": "LZgzBYo_5s8l",
        "outputId": "1f3c1f65-25d8-4ff1-9d99-2eaa9c236283"
      },
      "outputs": [
        {
          "data": {
            "text/plain": [
              "110.15078236130869"
            ]
          },
          "execution_count": 367,
          "metadata": {},
          "output_type": "execute_result"
        }
      ],
      "source": [
        "test[test['action'] == 'create_order']['price'].mean()"
      ]
    },
    {
      "cell_type": "code",
      "execution_count": null,
      "metadata": {
        "id": "YgBDcBMq5s8l",
        "outputId": "95ccf77a-3049-4815-bb9d-1e600dd4bedf"
      },
      "outputs": [
        {
          "data": {
            "text/plain": [
              "113.81981447124305"
            ]
          },
          "execution_count": 368,
          "metadata": {},
          "output_type": "execute_result"
        }
      ],
      "source": [
        "control[control['action'] == 'create_order']['price'].mean()"
      ]
    },
    {
      "cell_type": "markdown",
      "metadata": {
        "id": "MqIyKw8j5s8l"
      },
      "source": [
        "## Формирую гипотезы о том, что два средних из одной совокупности"
      ]
    },
    {
      "cell_type": "markdown",
      "metadata": {
        "id": "MfUUYf2k5s8m"
      },
      "source": [
        "#### H0: средние из одной ГС\n",
        "#### H1: средние из разных ГС"
      ]
    },
    {
      "cell_type": "code",
      "execution_count": null,
      "metadata": {
        "id": "6wGM01gw5s8m",
        "outputId": "aae48913-ca86-4e58-bfdf-1a99da839c21"
      },
      "outputs": [
        {
          "data": {
            "text/plain": [
              "<matplotlib.axes._subplots.AxesSubplot at 0x7f26dca91a90>"
            ]
          },
          "execution_count": 369,
          "metadata": {},
          "output_type": "execute_result"
        },
        {
          "data": {
            "image/png": "[encoded data removed]",
            "text/plain": [
              "<Figure size 432x288 with 1 Axes>"
            ]
          },
          "metadata": {
            "needs_background": "light"
          },
          "output_type": "display_data"
        }
      ],
      "source": [
        "test[test['action'] == 'create_order']['price'].hist(bins=30)"
      ]
    },
    {
      "cell_type": "markdown",
      "metadata": {
        "id": "MeXGeBoQ5s8m"
      },
      "source": [
        "##### Как мы можем заметить, что распределение не является нормальным для тестовой группы, аналагично и у контрольной.\n"
      ]
    },
    {
      "cell_type": "code",
      "execution_count": null,
      "metadata": {
        "scrolled": true,
        "id": "p15XnIDA5s8m",
        "outputId": "c4de9b28-3b76-4f43-80ec-056c59c9ffaf"
      },
      "outputs": [
        {
          "data": {
            "text/plain": [
              "<matplotlib.axes._subplots.AxesSubplot at 0x7f26dc963e48>"
            ]
          },
          "execution_count": 370,
          "metadata": {},
          "output_type": "execute_result"
        },
        {
          "data": {
            "image/png": "[encoded data removed]",
            "text/plain": [
              "<Figure size 432x288 with 1 Axes>"
            ]
          },
          "metadata": {
            "needs_background": "light"
          },
          "output_type": "display_data"
        }
      ],
      "source": [
        "control[control['action'] == 'create_order']['price'].hist(bins=30)"
      ]
    },
    {
      "cell_type": "code",
      "execution_count": null,
      "metadata": {
        "id": "H-MxRfbI5s8m",
        "outputId": "1db41c43-4468-4a90-ee70-0d8ca63f67d2"
      },
      "outputs": [
        {
          "data": {
            "text/plain": [
              "<matplotlib.axes._subplots.AxesSubplot at 0x7f26dc8a8f60>"
            ]
          },
          "execution_count": 371,
          "metadata": {},
          "output_type": "execute_result"
        },
        {
          "data": {
            "image/png": "[encoded data removed]",
            "text/plain": [
              "<Figure size 360x288 with 1 Axes>"
            ]
          },
          "metadata": {
            "needs_background": "light"
          },
          "output_type": "display_data"
        }
      ],
      "source": [
        "pg.qqplot(test[test['action'] == 'create_order']['price'], dist='norm')"
      ]
    },
    {
      "cell_type": "code",
      "execution_count": null,
      "metadata": {
        "id": "mAyPRYv-5s8m",
        "outputId": "cdd14999-0c67-48f3-f4af-ddf5b890bc12"
      },
      "outputs": [
        {
          "data": {
            "text/html": [
              "<div>\n",
              "<style scoped>\n",
              "    .dataframe tbody tr th:only-of-type {\n",
              "        vertical-align: middle;\n",
              "    }\n",
              "\n",
              "    .dataframe tbody tr th {\n",
              "        vertical-align: top;\n",
              "    }\n",
              "\n",
              "    .dataframe thead th {\n",
              "        text-align: right;\n",
              "    }\n",
              "</style>\n",
              "<table border=\"1\" class=\"dataframe\">\n",
              "  <thead>\n",
              "    <tr style=\"text-align: right;\">\n",
              "      <th></th>\n",
              "      <th>W</th>\n",
              "      <th>pval</th>\n",
              "      <th>normal</th>\n",
              "    </tr>\n",
              "  </thead>\n",
              "  <tbody>\n",
              "    <tr>\n",
              "      <th>price</th>\n",
              "      <td>4143.68308</td>\n",
              "      <td>0.0</td>\n",
              "      <td>False</td>\n",
              "    </tr>\n",
              "  </tbody>\n",
              "</table>\n",
              "</div>"
            ],
            "text/plain": [
              "                W  pval  normal\n",
              "price  4143.68308   0.0   False"
            ]
          },
          "execution_count": 372,
          "metadata": {},
          "output_type": "execute_result"
        }
      ],
      "source": [
        "pg.normality(test[test['action'] == 'create_order']['price'], method='normaltest')"
      ]
    },
    {
      "cell_type": "markdown",
      "metadata": {
        "id": "-5hp6bTo5s8m"
      },
      "source": [
        "###### Необходимо прологарифмировать, для того чтобы распределение было нормальным"
      ]
    },
    {
      "cell_type": "code",
      "execution_count": null,
      "metadata": {
        "id": "MwoU0DWZ5s8n"
      },
      "outputs": [],
      "source": [
        "test_normal_distrib = np.log(test[test['action'] == 'create_order']['price'])"
      ]
    },
    {
      "cell_type": "code",
      "execution_count": null,
      "metadata": {
        "id": "BtHStGrC5s8n"
      },
      "outputs": [],
      "source": [
        "control_normal_distrib = np.log(control[control['action'] == 'create_order']['price'])"
      ]
    },
    {
      "cell_type": "code",
      "execution_count": null,
      "metadata": {
        "id": "L0J6yA925s8n",
        "outputId": "531c7017-090b-40c7-f168-fe3611fc8ac5"
      },
      "outputs": [
        {
          "data": {
            "text/plain": [
              "<matplotlib.axes._subplots.AxesSubplot at 0x7f26dc887dd8>"
            ]
          },
          "execution_count": 375,
          "metadata": {},
          "output_type": "execute_result"
        },
        {
          "data": {
            "image/png": "[encoded data removed]",
            "text/plain": [
              "<Figure size 432x288 with 1 Axes>"
            ]
          },
          "metadata": {
            "needs_background": "light"
          },
          "output_type": "display_data"
        }
      ],
      "source": [
        "test_normal_distrib.hist(bins=30)"
      ]
    },
    {
      "cell_type": "code",
      "execution_count": null,
      "metadata": {
        "scrolled": true,
        "id": "F7Dmldgo5s8n",
        "outputId": "a1e2118b-7e47-452b-91f6-7c8761bbe532"
      },
      "outputs": [
        {
          "data": {
            "text/plain": [
              "<matplotlib.axes._subplots.AxesSubplot at 0x7f26dc75ee10>"
            ]
          },
          "execution_count": 376,
          "metadata": {},
          "output_type": "execute_result"
        },
        {
          "data": {
            "image/png": "[encoded data removed]",
            "text/plain": [
              "<Figure size 360x288 with 1 Axes>"
            ]
          },
          "metadata": {
            "needs_background": "light"
          },
          "output_type": "display_data"
        }
      ],
      "source": [
        "pg.qqplot(test_normal_distrib, dist='norm')"
      ]
    },
    {
      "cell_type": "code",
      "execution_count": null,
      "metadata": {
        "id": "wCeRQ1l55s8n",
        "outputId": "d64a0ac9-572b-438f-9777-34e7b6ce49d4"
      },
      "outputs": [
        {
          "data": {
            "text/html": [
              "<div>\n",
              "<style scoped>\n",
              "    .dataframe tbody tr th:only-of-type {\n",
              "        vertical-align: middle;\n",
              "    }\n",
              "\n",
              "    .dataframe tbody tr th {\n",
              "        vertical-align: top;\n",
              "    }\n",
              "\n",
              "    .dataframe thead th {\n",
              "        text-align: right;\n",
              "    }\n",
              "</style>\n",
              "<table border=\"1\" class=\"dataframe\">\n",
              "  <thead>\n",
              "    <tr style=\"text-align: right;\">\n",
              "      <th></th>\n",
              "      <th>W</th>\n",
              "      <th>pval</th>\n",
              "      <th>normal</th>\n",
              "    </tr>\n",
              "  </thead>\n",
              "  <tbody>\n",
              "    <tr>\n",
              "      <th>price</th>\n",
              "      <td>2263.666424</td>\n",
              "      <td>0.0</td>\n",
              "      <td>False</td>\n",
              "    </tr>\n",
              "  </tbody>\n",
              "</table>\n",
              "</div>"
            ],
            "text/plain": [
              "                 W  pval  normal\n",
              "price  2263.666424   0.0   False"
            ]
          },
          "execution_count": 377,
          "metadata": {},
          "output_type": "execute_result"
        }
      ],
      "source": [
        "pg.normality(test_normal_distrib,  method='normaltest')"
      ]
    },
    {
      "cell_type": "code",
      "execution_count": null,
      "metadata": {
        "id": "72W6FYez5s8n",
        "outputId": "12e372ae-f7dc-419e-9522-efa947d3613a"
      },
      "outputs": [
        {
          "data": {
            "text/plain": [
              "<matplotlib.axes._subplots.AxesSubplot at 0x7f26dc827828>"
            ]
          },
          "execution_count": 378,
          "metadata": {},
          "output_type": "execute_result"
        },
        {
          "data": {
            "image/png": "[encoded data removed]",
            "text/plain": [
              "<Figure size 360x288 with 1 Axes>"
            ]
          },
          "metadata": {
            "needs_background": "light"
          },
          "output_type": "display_data"
        }
      ],
      "source": [
        "pg.qqplot(control_normal_distrib, dist='norm')"
      ]
    },
    {
      "cell_type": "code",
      "execution_count": null,
      "metadata": {
        "id": "xrxZBf-N5s8n",
        "outputId": "e6ea68f7-a91c-46b5-f04c-93ce8e40b2f2"
      },
      "outputs": [
        {
          "data": {
            "text/html": [
              "<div>\n",
              "<style scoped>\n",
              "    .dataframe tbody tr th:only-of-type {\n",
              "        vertical-align: middle;\n",
              "    }\n",
              "\n",
              "    .dataframe tbody tr th {\n",
              "        vertical-align: top;\n",
              "    }\n",
              "\n",
              "    .dataframe thead th {\n",
              "        text-align: right;\n",
              "    }\n",
              "</style>\n",
              "<table border=\"1\" class=\"dataframe\">\n",
              "  <thead>\n",
              "    <tr style=\"text-align: right;\">\n",
              "      <th></th>\n",
              "      <th>T</th>\n",
              "      <th>dof</th>\n",
              "      <th>alternative</th>\n",
              "      <th>p-val</th>\n",
              "      <th>CI95%</th>\n",
              "      <th>cohen-d</th>\n",
              "      <th>BF10</th>\n",
              "      <th>power</th>\n",
              "    </tr>\n",
              "  </thead>\n",
              "  <tbody>\n",
              "    <tr>\n",
              "      <th>T-test</th>\n",
              "      <td>-1.274383</td>\n",
              "      <td>11194.948105</td>\n",
              "      <td>two-sided</td>\n",
              "      <td>0.202554</td>\n",
              "      <td>[-0.05, 0.01]</td>\n",
              "      <td>0.022389</td>\n",
              "      <td>0.044</td>\n",
              "      <td>0.250076</td>\n",
              "    </tr>\n",
              "  </tbody>\n",
              "</table>\n",
              "</div>"
            ],
            "text/plain": [
              "               T           dof alternative     p-val          CI95%   cohen-d  \\\n",
              "T-test -1.274383  11194.948105   two-sided  0.202554  [-0.05, 0.01]  0.022389   \n",
              "\n",
              "         BF10     power  \n",
              "T-test  0.044  0.250076  "
            ]
          },
          "execution_count": 379,
          "metadata": {},
          "output_type": "execute_result"
        }
      ],
      "source": [
        "pg.ttest(test_normal_distrib, control_normal_distrib)"
      ]
    },
    {
      "cell_type": "markdown",
      "metadata": {
        "id": "QeVCeIth5s8o"
      },
      "source": [
        "## Не можем отклонить нулевую гипотезу"
      ]
    },
    {
      "cell_type": "code",
      "execution_count": null,
      "metadata": {
        "id": "GFc0JC1d5s8o"
      },
      "outputs": [],
      "source": []
    },
    {
      "cell_type": "markdown",
      "metadata": {
        "id": "h0L86OKh5s8o"
      },
      "source": [
        "## Проверяю общую выручку"
      ]
    },
    {
      "cell_type": "code",
      "execution_count": null,
      "metadata": {
        "id": "gmzVkWvv5s8o",
        "outputId": "a480b432-6e0e-49e7-e321-c4e7d310ce5b"
      },
      "outputs": [
        {
          "data": {
            "text/html": [
              "<div>\n",
              "<style scoped>\n",
              "    .dataframe tbody tr th:only-of-type {\n",
              "        vertical-align: middle;\n",
              "    }\n",
              "\n",
              "    .dataframe tbody tr th {\n",
              "        vertical-align: top;\n",
              "    }\n",
              "\n",
              "    .dataframe thead th {\n",
              "        text-align: right;\n",
              "    }\n",
              "</style>\n",
              "<table border=\"1\" class=\"dataframe\">\n",
              "  <thead>\n",
              "    <tr style=\"text-align: right;\">\n",
              "      <th></th>\n",
              "      <th>user_id</th>\n",
              "      <th>order_id</th>\n",
              "      <th>action</th>\n",
              "      <th>time</th>\n",
              "      <th>date</th>\n",
              "      <th>group</th>\n",
              "      <th>creation_time</th>\n",
              "      <th>product_id</th>\n",
              "      <th>name</th>\n",
              "      <th>price</th>\n",
              "    </tr>\n",
              "  </thead>\n",
              "  <tbody>\n",
              "    <tr>\n",
              "      <th>2</th>\n",
              "      <td>1073</td>\n",
              "      <td>1403</td>\n",
              "      <td>create_order</td>\n",
              "      <td>2022-08-26 03:01:40</td>\n",
              "      <td>2022-08-26</td>\n",
              "      <td>1</td>\n",
              "      <td>2022-08-26 03:01:40</td>\n",
              "      <td>75</td>\n",
              "      <td>сок ананасовый</td>\n",
              "      <td>120.0</td>\n",
              "    </tr>\n",
              "    <tr>\n",
              "      <th>3</th>\n",
              "      <td>1089</td>\n",
              "      <td>1424</td>\n",
              "      <td>create_order</td>\n",
              "      <td>2022-08-26 04:01:22</td>\n",
              "      <td>2022-08-26</td>\n",
              "      <td>1</td>\n",
              "      <td>2022-08-26 04:01:22</td>\n",
              "      <td>75</td>\n",
              "      <td>сок ананасовый</td>\n",
              "      <td>120.0</td>\n",
              "    </tr>\n",
              "    <tr>\n",
              "      <th>4</th>\n",
              "      <td>1139</td>\n",
              "      <td>1495</td>\n",
              "      <td>create_order</td>\n",
              "      <td>2022-08-26 06:04:05</td>\n",
              "      <td>2022-08-26</td>\n",
              "      <td>1</td>\n",
              "      <td>2022-08-26 06:04:05</td>\n",
              "      <td>75</td>\n",
              "      <td>сок ананасовый</td>\n",
              "      <td>120.0</td>\n",
              "    </tr>\n",
              "    <tr>\n",
              "      <th>5</th>\n",
              "      <td>1290</td>\n",
              "      <td>1710</td>\n",
              "      <td>create_order</td>\n",
              "      <td>2022-08-26 10:04:41</td>\n",
              "      <td>2022-08-26</td>\n",
              "      <td>1</td>\n",
              "      <td>2022-08-26 10:04:41</td>\n",
              "      <td>75</td>\n",
              "      <td>сок ананасовый</td>\n",
              "      <td>120.0</td>\n",
              "    </tr>\n",
              "    <tr>\n",
              "      <th>8</th>\n",
              "      <td>1547</td>\n",
              "      <td>2064</td>\n",
              "      <td>create_order</td>\n",
              "      <td>2022-08-26 15:29:53</td>\n",
              "      <td>2022-08-26</td>\n",
              "      <td>1</td>\n",
              "      <td>2022-08-26 15:29:53</td>\n",
              "      <td>75</td>\n",
              "      <td>сок ананасовый</td>\n",
              "      <td>120.0</td>\n",
              "    </tr>\n",
              "  </tbody>\n",
              "</table>\n",
              "</div>"
            ],
            "text/plain": [
              "   user_id  order_id        action                time       date  group  \\\n",
              "2     1073      1403  create_order 2022-08-26 03:01:40 2022-08-26      1   \n",
              "3     1089      1424  create_order 2022-08-26 04:01:22 2022-08-26      1   \n",
              "4     1139      1495  create_order 2022-08-26 06:04:05 2022-08-26      1   \n",
              "5     1290      1710  create_order 2022-08-26 10:04:41 2022-08-26      1   \n",
              "8     1547      2064  create_order 2022-08-26 15:29:53 2022-08-26      1   \n",
              "\n",
              "        creation_time product_id            name  price  \n",
              "2 2022-08-26 03:01:40         75  сок ананасовый  120.0  \n",
              "3 2022-08-26 04:01:22         75  сок ананасовый  120.0  \n",
              "4 2022-08-26 06:04:05         75  сок ананасовый  120.0  \n",
              "5 2022-08-26 10:04:41         75  сок ананасовый  120.0  \n",
              "8 2022-08-26 15:29:53         75  сок ананасовый  120.0  "
            ]
          },
          "execution_count": 380,
          "metadata": {},
          "output_type": "execute_result"
        }
      ],
      "source": [
        "test.head()"
      ]
    },
    {
      "cell_type": "code",
      "execution_count": null,
      "metadata": {
        "id": "XYlb_9rF5s8o",
        "outputId": "a2ecf337-51d3-408b-da09-ca9bdca28784"
      },
      "outputs": [
        {
          "data": {
            "text/plain": [
              "(8892, 10)"
            ]
          },
          "execution_count": 381,
          "metadata": {},
          "output_type": "execute_result"
        }
      ],
      "source": [
        "test.shape"
      ]
    },
    {
      "cell_type": "code",
      "execution_count": null,
      "metadata": {
        "id": "8uKHRZUb5s8o",
        "outputId": "c8bcf66d-c7b7-4e1b-907a-055d7468bdc0"
      },
      "outputs": [
        {
          "data": {
            "text/plain": [
              "(5677, 10)"
            ]
          },
          "execution_count": 382,
          "metadata": {},
          "output_type": "execute_result"
        }
      ],
      "source": [
        "control.shape"
      ]
    },
    {
      "cell_type": "code",
      "execution_count": null,
      "metadata": {
        "id": "FoJkgHqw5s8o",
        "outputId": "639547ae-ffee-406b-a397-64c8c1761377"
      },
      "outputs": [
        {
          "data": {
            "text/html": [
              "<div>\n",
              "<style scoped>\n",
              "    .dataframe tbody tr th:only-of-type {\n",
              "        vertical-align: middle;\n",
              "    }\n",
              "\n",
              "    .dataframe tbody tr th {\n",
              "        vertical-align: top;\n",
              "    }\n",
              "\n",
              "    .dataframe thead th {\n",
              "        text-align: right;\n",
              "    }\n",
              "</style>\n",
              "<table border=\"1\" class=\"dataframe\">\n",
              "  <thead>\n",
              "    <tr style=\"text-align: right;\">\n",
              "      <th></th>\n",
              "      <th>user_id</th>\n",
              "      <th>order_id</th>\n",
              "      <th>action</th>\n",
              "      <th>time</th>\n",
              "      <th>date</th>\n",
              "      <th>group</th>\n",
              "      <th>creation_time</th>\n",
              "      <th>product_id</th>\n",
              "      <th>name</th>\n",
              "      <th>price</th>\n",
              "    </tr>\n",
              "  </thead>\n",
              "  <tbody>\n",
              "    <tr>\n",
              "      <th>0</th>\n",
              "      <td>964</td>\n",
              "      <td>1255</td>\n",
              "      <td>create_order</td>\n",
              "      <td>2022-08-26 00:00:19</td>\n",
              "      <td>2022-08-26</td>\n",
              "      <td>0</td>\n",
              "      <td>2022-08-26 00:00:19</td>\n",
              "      <td>75</td>\n",
              "      <td>сок ананасовый</td>\n",
              "      <td>120.0</td>\n",
              "    </tr>\n",
              "    <tr>\n",
              "      <th>1</th>\n",
              "      <td>987</td>\n",
              "      <td>1287</td>\n",
              "      <td>create_order</td>\n",
              "      <td>2022-08-26 00:31:36</td>\n",
              "      <td>2022-08-26</td>\n",
              "      <td>0</td>\n",
              "      <td>2022-08-26 00:31:36</td>\n",
              "      <td>75</td>\n",
              "      <td>сок ананасовый</td>\n",
              "      <td>120.0</td>\n",
              "    </tr>\n",
              "    <tr>\n",
              "      <th>6</th>\n",
              "      <td>1350</td>\n",
              "      <td>1791</td>\n",
              "      <td>create_order</td>\n",
              "      <td>2022-08-26 11:18:28</td>\n",
              "      <td>2022-08-26</td>\n",
              "      <td>0</td>\n",
              "      <td>2022-08-26 11:18:28</td>\n",
              "      <td>75</td>\n",
              "      <td>сок ананасовый</td>\n",
              "      <td>120.0</td>\n",
              "    </tr>\n",
              "    <tr>\n",
              "      <th>7</th>\n",
              "      <td>1475</td>\n",
              "      <td>1957</td>\n",
              "      <td>create_order</td>\n",
              "      <td>2022-08-26 13:47:21</td>\n",
              "      <td>2022-08-26</td>\n",
              "      <td>0</td>\n",
              "      <td>2022-08-26 13:47:21</td>\n",
              "      <td>75</td>\n",
              "      <td>сок ананасовый</td>\n",
              "      <td>120.0</td>\n",
              "    </tr>\n",
              "    <tr>\n",
              "      <th>12</th>\n",
              "      <td>1634</td>\n",
              "      <td>2199</td>\n",
              "      <td>create_order</td>\n",
              "      <td>2022-08-26 17:28:53</td>\n",
              "      <td>2022-08-26</td>\n",
              "      <td>0</td>\n",
              "      <td>2022-08-26 17:28:53</td>\n",
              "      <td>75</td>\n",
              "      <td>сок ананасовый</td>\n",
              "      <td>120.0</td>\n",
              "    </tr>\n",
              "  </tbody>\n",
              "</table>\n",
              "</div>"
            ],
            "text/plain": [
              "    user_id  order_id        action                time       date  group  \\\n",
              "0       964      1255  create_order 2022-08-26 00:00:19 2022-08-26      0   \n",
              "1       987      1287  create_order 2022-08-26 00:31:36 2022-08-26      0   \n",
              "6      1350      1791  create_order 2022-08-26 11:18:28 2022-08-26      0   \n",
              "7      1475      1957  create_order 2022-08-26 13:47:21 2022-08-26      0   \n",
              "12     1634      2199  create_order 2022-08-26 17:28:53 2022-08-26      0   \n",
              "\n",
              "         creation_time product_id            name  price  \n",
              "0  2022-08-26 00:00:19         75  сок ананасовый  120.0  \n",
              "1  2022-08-26 00:31:36         75  сок ананасовый  120.0  \n",
              "6  2022-08-26 11:18:28         75  сок ананасовый  120.0  \n",
              "7  2022-08-26 13:47:21         75  сок ананасовый  120.0  \n",
              "12 2022-08-26 17:28:53         75  сок ананасовый  120.0  "
            ]
          },
          "execution_count": 383,
          "metadata": {},
          "output_type": "execute_result"
        }
      ],
      "source": [
        "control.head()"
      ]
    },
    {
      "cell_type": "code",
      "execution_count": null,
      "metadata": {
        "id": "8G4mcLZr5s8p",
        "outputId": "beafd488-76d8-4f7a-dde5-27f1dbcf1a83"
      },
      "outputs": [
        {
          "data": {
            "text/plain": [
              "929232.0000000002"
            ]
          },
          "execution_count": 384,
          "metadata": {},
          "output_type": "execute_result"
        }
      ],
      "source": [
        "test[test['action'] == 'create_order'].groupby('product_id')['price'].sum().sum()"
      ]
    },
    {
      "cell_type": "code",
      "execution_count": null,
      "metadata": {
        "id": "AKXTgJsm5s8p",
        "outputId": "fc31ba28-76e2-4b84-ffce-e2287a9bcb95"
      },
      "outputs": [
        {
          "data": {
            "text/plain": [
              "613488.8"
            ]
          },
          "execution_count": 385,
          "metadata": {},
          "output_type": "execute_result"
        }
      ],
      "source": [
        "control[control['action'] == 'create_order'].groupby('product_id')['price'].sum().sum()"
      ]
    },
    {
      "cell_type": "markdown",
      "metadata": {
        "id": "HvVOfx5E5s8p"
      },
      "source": [
        "##### Минимальные и максимальные даты создания заказа. Нужно нам для того, чтобы посмотреть интервал"
      ]
    },
    {
      "cell_type": "code",
      "execution_count": null,
      "metadata": {
        "id": "593ppbFe5s8p",
        "outputId": "ef1ebbc8-36ed-44bc-abe1-af019146be34"
      },
      "outputs": [
        {
          "name": "stdout",
          "output_type": "stream",
          "text": [
            "2022-08-26 2022-08-26\n"
          ]
        }
      ],
      "source": [
        "print(test['creation_time'].dt.date.min(), control['creation_time'].dt.date.min())"
      ]
    },
    {
      "cell_type": "code",
      "execution_count": null,
      "metadata": {
        "id": "a1heGQQj5s8p",
        "outputId": "53fec416-9127-49f1-efd9-0a88606a8efd"
      },
      "outputs": [
        {
          "name": "stdout",
          "output_type": "stream",
          "text": [
            "2022-09-08 2022-09-08\n"
          ]
        }
      ],
      "source": [
        "print(test['creation_time'].dt.date.max(), control['creation_time'].dt.date.max())"
      ]
    },
    {
      "cell_type": "markdown",
      "metadata": {
        "id": "aajfN8vR5s8p"
      },
      "source": [
        "##### Мы видим, что в тестовом варианте выручки больше, это связано с тем, что во время акции мы распродали больше товаров за один и тот же интервал времени, что и у контрольной группы, тем самым уменьшив средний чек."
      ]
    },
    {
      "cell_type": "markdown",
      "metadata": {
        "id": "QAQtlEAM5s8p"
      },
      "source": [
        "#### Но этот вывод противоречит моей гипотезе о средних ГС, так как мы не смогли принять альтернативную"
      ]
    },
    {
      "cell_type": "markdown",
      "metadata": {
        "id": "Kcc5uM_G5s8q"
      },
      "source": [
        "## Проверяю сумму заказа"
      ]
    },
    {
      "cell_type": "code",
      "execution_count": null,
      "metadata": {
        "id": "w5sFAgdP5s8q",
        "outputId": "9d3752c9-7163-49bf-f48f-ac972f648141"
      },
      "outputs": [
        {
          "data": {
            "text/html": [
              "<div>\n",
              "<style scoped>\n",
              "    .dataframe tbody tr th:only-of-type {\n",
              "        vertical-align: middle;\n",
              "    }\n",
              "\n",
              "    .dataframe tbody tr th {\n",
              "        vertical-align: top;\n",
              "    }\n",
              "\n",
              "    .dataframe thead th {\n",
              "        text-align: right;\n",
              "    }\n",
              "</style>\n",
              "<table border=\"1\" class=\"dataframe\">\n",
              "  <thead>\n",
              "    <tr style=\"text-align: right;\">\n",
              "      <th></th>\n",
              "      <th>user_id</th>\n",
              "      <th>order_id</th>\n",
              "      <th>action</th>\n",
              "      <th>time</th>\n",
              "      <th>date</th>\n",
              "      <th>group</th>\n",
              "      <th>creation_time</th>\n",
              "      <th>product_id</th>\n",
              "      <th>name</th>\n",
              "      <th>price</th>\n",
              "    </tr>\n",
              "  </thead>\n",
              "  <tbody>\n",
              "    <tr>\n",
              "      <th>2</th>\n",
              "      <td>1073</td>\n",
              "      <td>1403</td>\n",
              "      <td>create_order</td>\n",
              "      <td>2022-08-26 03:01:40</td>\n",
              "      <td>2022-08-26</td>\n",
              "      <td>1</td>\n",
              "      <td>2022-08-26 03:01:40</td>\n",
              "      <td>75</td>\n",
              "      <td>сок ананасовый</td>\n",
              "      <td>120.0</td>\n",
              "    </tr>\n",
              "    <tr>\n",
              "      <th>3</th>\n",
              "      <td>1089</td>\n",
              "      <td>1424</td>\n",
              "      <td>create_order</td>\n",
              "      <td>2022-08-26 04:01:22</td>\n",
              "      <td>2022-08-26</td>\n",
              "      <td>1</td>\n",
              "      <td>2022-08-26 04:01:22</td>\n",
              "      <td>75</td>\n",
              "      <td>сок ананасовый</td>\n",
              "      <td>120.0</td>\n",
              "    </tr>\n",
              "    <tr>\n",
              "      <th>4</th>\n",
              "      <td>1139</td>\n",
              "      <td>1495</td>\n",
              "      <td>create_order</td>\n",
              "      <td>2022-08-26 06:04:05</td>\n",
              "      <td>2022-08-26</td>\n",
              "      <td>1</td>\n",
              "      <td>2022-08-26 06:04:05</td>\n",
              "      <td>75</td>\n",
              "      <td>сок ананасовый</td>\n",
              "      <td>120.0</td>\n",
              "    </tr>\n",
              "    <tr>\n",
              "      <th>5</th>\n",
              "      <td>1290</td>\n",
              "      <td>1710</td>\n",
              "      <td>create_order</td>\n",
              "      <td>2022-08-26 10:04:41</td>\n",
              "      <td>2022-08-26</td>\n",
              "      <td>1</td>\n",
              "      <td>2022-08-26 10:04:41</td>\n",
              "      <td>75</td>\n",
              "      <td>сок ананасовый</td>\n",
              "      <td>120.0</td>\n",
              "    </tr>\n",
              "    <tr>\n",
              "      <th>8</th>\n",
              "      <td>1547</td>\n",
              "      <td>2064</td>\n",
              "      <td>create_order</td>\n",
              "      <td>2022-08-26 15:29:53</td>\n",
              "      <td>2022-08-26</td>\n",
              "      <td>1</td>\n",
              "      <td>2022-08-26 15:29:53</td>\n",
              "      <td>75</td>\n",
              "      <td>сок ананасовый</td>\n",
              "      <td>120.0</td>\n",
              "    </tr>\n",
              "  </tbody>\n",
              "</table>\n",
              "</div>"
            ],
            "text/plain": [
              "   user_id  order_id        action                time       date  group  \\\n",
              "2     1073      1403  create_order 2022-08-26 03:01:40 2022-08-26      1   \n",
              "3     1089      1424  create_order 2022-08-26 04:01:22 2022-08-26      1   \n",
              "4     1139      1495  create_order 2022-08-26 06:04:05 2022-08-26      1   \n",
              "5     1290      1710  create_order 2022-08-26 10:04:41 2022-08-26      1   \n",
              "8     1547      2064  create_order 2022-08-26 15:29:53 2022-08-26      1   \n",
              "\n",
              "        creation_time product_id            name  price  \n",
              "2 2022-08-26 03:01:40         75  сок ананасовый  120.0  \n",
              "3 2022-08-26 04:01:22         75  сок ананасовый  120.0  \n",
              "4 2022-08-26 06:04:05         75  сок ананасовый  120.0  \n",
              "5 2022-08-26 10:04:41         75  сок ананасовый  120.0  \n",
              "8 2022-08-26 15:29:53         75  сок ананасовый  120.0  "
            ]
          },
          "execution_count": 388,
          "metadata": {},
          "output_type": "execute_result"
        }
      ],
      "source": [
        "test.head()"
      ]
    },
    {
      "cell_type": "code",
      "execution_count": null,
      "metadata": {
        "id": "wKYHccVk5s8q",
        "outputId": "ce443d58-5406-44a4-e06b-074f63a145c2"
      },
      "outputs": [
        {
          "data": {
            "text/html": [
              "<div>\n",
              "<style scoped>\n",
              "    .dataframe tbody tr th:only-of-type {\n",
              "        vertical-align: middle;\n",
              "    }\n",
              "\n",
              "    .dataframe tbody tr th {\n",
              "        vertical-align: top;\n",
              "    }\n",
              "\n",
              "    .dataframe thead th {\n",
              "        text-align: right;\n",
              "    }\n",
              "</style>\n",
              "<table border=\"1\" class=\"dataframe\">\n",
              "  <thead>\n",
              "    <tr style=\"text-align: right;\">\n",
              "      <th></th>\n",
              "      <th>user_id</th>\n",
              "      <th>order_id</th>\n",
              "      <th>action</th>\n",
              "      <th>time</th>\n",
              "      <th>date</th>\n",
              "      <th>group</th>\n",
              "      <th>creation_time</th>\n",
              "      <th>product_id</th>\n",
              "      <th>name</th>\n",
              "      <th>price</th>\n",
              "    </tr>\n",
              "  </thead>\n",
              "  <tbody>\n",
              "    <tr>\n",
              "      <th>0</th>\n",
              "      <td>964</td>\n",
              "      <td>1255</td>\n",
              "      <td>create_order</td>\n",
              "      <td>2022-08-26 00:00:19</td>\n",
              "      <td>2022-08-26</td>\n",
              "      <td>0</td>\n",
              "      <td>2022-08-26 00:00:19</td>\n",
              "      <td>75</td>\n",
              "      <td>сок ананасовый</td>\n",
              "      <td>120.0</td>\n",
              "    </tr>\n",
              "    <tr>\n",
              "      <th>1</th>\n",
              "      <td>987</td>\n",
              "      <td>1287</td>\n",
              "      <td>create_order</td>\n",
              "      <td>2022-08-26 00:31:36</td>\n",
              "      <td>2022-08-26</td>\n",
              "      <td>0</td>\n",
              "      <td>2022-08-26 00:31:36</td>\n",
              "      <td>75</td>\n",
              "      <td>сок ананасовый</td>\n",
              "      <td>120.0</td>\n",
              "    </tr>\n",
              "    <tr>\n",
              "      <th>6</th>\n",
              "      <td>1350</td>\n",
              "      <td>1791</td>\n",
              "      <td>create_order</td>\n",
              "      <td>2022-08-26 11:18:28</td>\n",
              "      <td>2022-08-26</td>\n",
              "      <td>0</td>\n",
              "      <td>2022-08-26 11:18:28</td>\n",
              "      <td>75</td>\n",
              "      <td>сок ананасовый</td>\n",
              "      <td>120.0</td>\n",
              "    </tr>\n",
              "    <tr>\n",
              "      <th>7</th>\n",
              "      <td>1475</td>\n",
              "      <td>1957</td>\n",
              "      <td>create_order</td>\n",
              "      <td>2022-08-26 13:47:21</td>\n",
              "      <td>2022-08-26</td>\n",
              "      <td>0</td>\n",
              "      <td>2022-08-26 13:47:21</td>\n",
              "      <td>75</td>\n",
              "      <td>сок ананасовый</td>\n",
              "      <td>120.0</td>\n",
              "    </tr>\n",
              "    <tr>\n",
              "      <th>12</th>\n",
              "      <td>1634</td>\n",
              "      <td>2199</td>\n",
              "      <td>create_order</td>\n",
              "      <td>2022-08-26 17:28:53</td>\n",
              "      <td>2022-08-26</td>\n",
              "      <td>0</td>\n",
              "      <td>2022-08-26 17:28:53</td>\n",
              "      <td>75</td>\n",
              "      <td>сок ананасовый</td>\n",
              "      <td>120.0</td>\n",
              "    </tr>\n",
              "  </tbody>\n",
              "</table>\n",
              "</div>"
            ],
            "text/plain": [
              "    user_id  order_id        action                time       date  group  \\\n",
              "0       964      1255  create_order 2022-08-26 00:00:19 2022-08-26      0   \n",
              "1       987      1287  create_order 2022-08-26 00:31:36 2022-08-26      0   \n",
              "6      1350      1791  create_order 2022-08-26 11:18:28 2022-08-26      0   \n",
              "7      1475      1957  create_order 2022-08-26 13:47:21 2022-08-26      0   \n",
              "12     1634      2199  create_order 2022-08-26 17:28:53 2022-08-26      0   \n",
              "\n",
              "         creation_time product_id            name  price  \n",
              "0  2022-08-26 00:00:19         75  сок ананасовый  120.0  \n",
              "1  2022-08-26 00:31:36         75  сок ананасовый  120.0  \n",
              "6  2022-08-26 11:18:28         75  сок ананасовый  120.0  \n",
              "7  2022-08-26 13:47:21         75  сок ананасовый  120.0  \n",
              "12 2022-08-26 17:28:53         75  сок ананасовый  120.0  "
            ]
          },
          "execution_count": 389,
          "metadata": {},
          "output_type": "execute_result"
        }
      ],
      "source": [
        "control.head()"
      ]
    },
    {
      "cell_type": "markdown",
      "metadata": {
        "id": "BP1xmY2D5s8q"
      },
      "source": [
        "## Хочу провести т-тест для средних по сумме заказа"
      ]
    },
    {
      "cell_type": "markdown",
      "metadata": {
        "id": "wJph42h35s8q"
      },
      "source": [
        "### Формулирую гипотезы:\n",
        "#### H0: средние из одной ГС\n",
        "#### H1: средние из разных ГС"
      ]
    },
    {
      "cell_type": "code",
      "execution_count": null,
      "metadata": {
        "id": "l67-WbX45s8q",
        "outputId": "0be4937f-9d7f-4c22-c70e-660082d71c19"
      },
      "outputs": [
        {
          "name": "stdout",
          "output_type": "stream",
          "text": [
            "Средняя сумма заказа 369.6229116945107\n"
          ]
        }
      ],
      "source": [
        "print('Средняя сумма заказа',test[test['action'] == 'create_order'].groupby('order_id')['price'].sum().mean())"
      ]
    },
    {
      "cell_type": "code",
      "execution_count": null,
      "metadata": {
        "id": "DaNYo8xl5s8q",
        "outputId": "7d264811-507d-4922-b9e4-59e625891899"
      },
      "outputs": [
        {
          "data": {
            "text/plain": [
              "247.0922752861378"
            ]
          },
          "execution_count": 391,
          "metadata": {},
          "output_type": "execute_result"
        }
      ],
      "source": [
        "np.std(test[test['action'] == 'create_order'].groupby('order_id')['price'].sum())"
      ]
    },
    {
      "cell_type": "code",
      "execution_count": null,
      "metadata": {
        "id": "dabTKw9t5s8q",
        "outputId": "3ef56390-740e-4bd8-b4bc-fb2194a286bd"
      },
      "outputs": [
        {
          "name": "stdout",
          "output_type": "stream",
          "text": [
            "Средняя сумма заказа 381.2857675574892\n"
          ]
        }
      ],
      "source": [
        "print('Средняя сумма заказа', control[control['action'] == 'create_order'].groupby('order_id')['price'].sum().mean())"
      ]
    },
    {
      "cell_type": "code",
      "execution_count": null,
      "metadata": {
        "id": "RAwLACZB5s8r",
        "outputId": "2551cf61-22e7-4343-d071-60b8505961ed"
      },
      "outputs": [
        {
          "data": {
            "text/plain": [
              "245.5931521042886"
            ]
          },
          "execution_count": 393,
          "metadata": {},
          "output_type": "execute_result"
        }
      ],
      "source": [
        "np.std(control[control['action'] == 'create_order'].groupby('order_id')['price'].sum())"
      ]
    },
    {
      "cell_type": "code",
      "execution_count": null,
      "metadata": {
        "scrolled": true,
        "id": "j4W1eYCP5s8r",
        "outputId": "4eee4575-5447-4378-bf80-4dd07699a532"
      },
      "outputs": [
        {
          "data": {
            "text/plain": [
              "<matplotlib.axes._subplots.AxesSubplot at 0x7f26dc6b14e0>"
            ]
          },
          "execution_count": 394,
          "metadata": {},
          "output_type": "execute_result"
        },
        {
          "data": {
            "image/png": "[encoded data removed]",
            "text/plain": [
              "<Figure size 432x288 with 1 Axes>"
            ]
          },
          "metadata": {
            "needs_background": "light"
          },
          "output_type": "display_data"
        }
      ],
      "source": [
        "np.log(test[test['action'] == 'create_order'].groupby('order_id')['price'].sum()).hist(bins=30)"
      ]
    },
    {
      "cell_type": "code",
      "execution_count": null,
      "metadata": {
        "id": "WWCKUQvW5s8r",
        "outputId": "51a36253-8a1c-4dcc-8f6d-31156531c575"
      },
      "outputs": [
        {
          "data": {
            "text/plain": [
              "<matplotlib.axes._subplots.AxesSubplot at 0x7f26dc706f98>"
            ]
          },
          "execution_count": 395,
          "metadata": {},
          "output_type": "execute_result"
        },
        {
          "data": {
            "image/png": "[encoded data removed]",
            "text/plain": [
              "<Figure size 360x288 with 1 Axes>"
            ]
          },
          "metadata": {
            "needs_background": "light"
          },
          "output_type": "display_data"
        }
      ],
      "source": [
        "pg.qqplot(np.log(test[test['action'] == 'create_order'].groupby('order_id')['price'].sum()), dist='norm')"
      ]
    },
    {
      "cell_type": "code",
      "execution_count": null,
      "metadata": {
        "id": "1usCxzec5s8r",
        "outputId": "ead11c1c-0b5b-443f-87b0-bf33d327c0fe"
      },
      "outputs": [
        {
          "data": {
            "text/html": [
              "<div>\n",
              "<style scoped>\n",
              "    .dataframe tbody tr th:only-of-type {\n",
              "        vertical-align: middle;\n",
              "    }\n",
              "\n",
              "    .dataframe tbody tr th {\n",
              "        vertical-align: top;\n",
              "    }\n",
              "\n",
              "    .dataframe thead th {\n",
              "        text-align: right;\n",
              "    }\n",
              "</style>\n",
              "<table border=\"1\" class=\"dataframe\">\n",
              "  <thead>\n",
              "    <tr style=\"text-align: right;\">\n",
              "      <th></th>\n",
              "      <th>W</th>\n",
              "      <th>pval</th>\n",
              "      <th>normal</th>\n",
              "    </tr>\n",
              "  </thead>\n",
              "  <tbody>\n",
              "    <tr>\n",
              "      <th>price</th>\n",
              "      <td>292.789947</td>\n",
              "      <td>2.639191e-64</td>\n",
              "      <td>False</td>\n",
              "    </tr>\n",
              "  </tbody>\n",
              "</table>\n",
              "</div>"
            ],
            "text/plain": [
              "                W          pval  normal\n",
              "price  292.789947  2.639191e-64   False"
            ]
          },
          "execution_count": 396,
          "metadata": {},
          "output_type": "execute_result"
        }
      ],
      "source": [
        "pg.normality(np.log(test[test['action'] == 'create_order'].groupby('order_id')['price'].sum()),  method='normaltest')"
      ]
    },
    {
      "cell_type": "code",
      "execution_count": null,
      "metadata": {
        "id": "tgcVFeyV5s8r",
        "outputId": "c1f9d310-33e0-4943-81a8-d590f1e9221e"
      },
      "outputs": [
        {
          "data": {
            "text/html": [
              "<div>\n",
              "<style scoped>\n",
              "    .dataframe tbody tr th:only-of-type {\n",
              "        vertical-align: middle;\n",
              "    }\n",
              "\n",
              "    .dataframe tbody tr th {\n",
              "        vertical-align: top;\n",
              "    }\n",
              "\n",
              "    .dataframe thead th {\n",
              "        text-align: right;\n",
              "    }\n",
              "</style>\n",
              "<table border=\"1\" class=\"dataframe\">\n",
              "  <thead>\n",
              "    <tr style=\"text-align: right;\">\n",
              "      <th></th>\n",
              "      <th>W</th>\n",
              "      <th>pval</th>\n",
              "      <th>normal</th>\n",
              "    </tr>\n",
              "  </thead>\n",
              "  <tbody>\n",
              "    <tr>\n",
              "      <th>price</th>\n",
              "      <td>158.213432</td>\n",
              "      <td>4.409504e-35</td>\n",
              "      <td>False</td>\n",
              "    </tr>\n",
              "  </tbody>\n",
              "</table>\n",
              "</div>"
            ],
            "text/plain": [
              "                W          pval  normal\n",
              "price  158.213432  4.409504e-35   False"
            ]
          },
          "execution_count": 397,
          "metadata": {},
          "output_type": "execute_result"
        }
      ],
      "source": [
        "pg.normality(np.log(control[control['action'] == 'create_order'].groupby('order_id')['price'].sum()),  method='normaltest')"
      ]
    },
    {
      "cell_type": "markdown",
      "metadata": {
        "id": "GdzYeCsx5s8r"
      },
      "source": [
        "### Как мы видим распределение ненормальнье, но так как данных много попробую сделать т-тест"
      ]
    },
    {
      "cell_type": "code",
      "execution_count": null,
      "metadata": {
        "id": "KCbHx_5c5s8r",
        "outputId": "53ec961d-e8c5-4dec-a076-11e576c81fb7"
      },
      "outputs": [
        {
          "data": {
            "text/html": [
              "<div>\n",
              "<style scoped>\n",
              "    .dataframe tbody tr th:only-of-type {\n",
              "        vertical-align: middle;\n",
              "    }\n",
              "\n",
              "    .dataframe tbody tr th {\n",
              "        vertical-align: top;\n",
              "    }\n",
              "\n",
              "    .dataframe thead th {\n",
              "        text-align: right;\n",
              "    }\n",
              "</style>\n",
              "<table border=\"1\" class=\"dataframe\">\n",
              "  <thead>\n",
              "    <tr style=\"text-align: right;\">\n",
              "      <th></th>\n",
              "      <th>T</th>\n",
              "      <th>dof</th>\n",
              "      <th>alternative</th>\n",
              "      <th>p-val</th>\n",
              "      <th>CI95%</th>\n",
              "      <th>cohen-d</th>\n",
              "      <th>BF10</th>\n",
              "      <th>power</th>\n",
              "    </tr>\n",
              "  </thead>\n",
              "  <tbody>\n",
              "    <tr>\n",
              "      <th>T-test</th>\n",
              "      <td>-1.808761</td>\n",
              "      <td>3487.2776</td>\n",
              "      <td>two-sided</td>\n",
              "      <td>0.070574</td>\n",
              "      <td>[-0.09, 0.0]</td>\n",
              "      <td>0.05744</td>\n",
              "      <td>0.183</td>\n",
              "      <td>0.43604</td>\n",
              "    </tr>\n",
              "  </tbody>\n",
              "</table>\n",
              "</div>"
            ],
            "text/plain": [
              "               T        dof alternative     p-val         CI95%  cohen-d  \\\n",
              "T-test -1.808761  3487.2776   two-sided  0.070574  [-0.09, 0.0]  0.05744   \n",
              "\n",
              "         BF10    power  \n",
              "T-test  0.183  0.43604  "
            ]
          },
          "execution_count": 398,
          "metadata": {},
          "output_type": "execute_result"
        }
      ],
      "source": [
        "pg.ttest(np.log(test[test['action'] == 'create_order'].groupby('order_id')['price'].sum()),\n",
        "                np.log(control[control['action'] == 'create_order'].groupby('order_id')['price'].sum()))"
      ]
    },
    {
      "cell_type": "markdown",
      "metadata": {
        "id": "Vh6owGuj5s8s"
      },
      "source": [
        "## Не можем отклонить H0"
      ]
    },
    {
      "cell_type": "markdown",
      "metadata": {
        "id": "NwUtQoI45s8s"
      },
      "source": [
        "# Вывод 1:\n",
        "#### Скорее всего в приложении по доставке продуктов была выкачена акция на время с 2022-08-26 по 2022-09-08. В тестовой группе был снижен средний чек, и следовательно было продано больше продуктов, а именно 8892, из-за чего общая выручка составила - 929тыс. что гораздо больше контрольной группы - 613488тыс.. Но и также средняя сумма заказа была меньше в тестовой группе и равнялась 369, что сильно меньше контрольной группы 381"
      ]
    },
    {
      "cell_type": "markdown",
      "metadata": {
        "id": "a5Y0l0Gv5s8s"
      },
      "source": [
        "# Вывод 2:\n",
        "####  Новая система рекомендаций смогла принести пользу бизнесу, так как увеличилась общая выручка, и пользователям, так снизились цены на товары."
      ]
    },
    {
      "cell_type": "markdown",
      "metadata": {
        "id": "BlPpo4a_5s8s"
      },
      "source": [
        "# Вывод 3:\n",
        "#### Не смотря на то, что я не смог получить статзначимые различия, то могу заключить то, что выгодно реализовывать тестовый вариант в том случае, если срок годности товаров подходит к концу и нам невыгодно списывать испорченный товар."
      ]
    },
    {
      "cell_type": "code",
      "source": [],
      "metadata": {
        "id": "1J4ZEM_v7peD"
      },
      "execution_count": null,
      "outputs": []
    },
    {
      "cell_type": "markdown",
      "source": [],
      "metadata": {
        "id": "faUIFe8J_r4U"
      }
    },
    {
      "cell_type": "code",
      "execution_count": null,
      "metadata": {
        "id": "KUlWId4o5s8t"
      },
      "outputs": [],
      "source": []
    },
    {
      "cell_type": "code",
      "execution_count": null,
      "metadata": {
        "id": "f0UpMI_R5s8t"
      },
      "outputs": [],
      "source": []
    }
  ],
  "metadata": {
    "kernelspec": {
      "display_name": "Python 3",
      "language": "python",
      "name": "python3"
    },
    "language_info": {
      "codemirror_mode": {
        "name": "ipython",
        "version": 3
      },
      "file_extension": ".py",
      "mimetype": "text/x-python",
      "name": "python",
      "nbconvert_exporter": "python",
      "pygments_lexer": "ipython3",
      "version": "3.7.3"
    },
    "colab": {
      "provenance": []
    }
  },
  "nbformat": 4,
  "nbformat_minor": 0
}